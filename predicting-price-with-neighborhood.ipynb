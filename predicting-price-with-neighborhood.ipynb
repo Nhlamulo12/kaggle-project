{
 "cells": [
  {
   "cell_type": "code",
   "execution_count": 1,
   "id": "2792a646",
   "metadata": {
    "_cell_guid": "b1076dfc-b9ad-4769-8c92-a6c4dae69d19",
    "_uuid": "8f2839f25d086af736a60e9eeb907d3b93b6e0e5",
    "execution": {
     "iopub.execute_input": "2023-05-01T08:57:16.080070Z",
     "iopub.status.busy": "2023-05-01T08:57:16.079706Z",
     "iopub.status.idle": "2023-05-01T08:57:16.097937Z",
     "shell.execute_reply": "2023-05-01T08:57:16.096676Z"
    },
    "papermill": {
     "duration": 0.030584,
     "end_time": "2023-05-01T08:57:16.100978",
     "exception": false,
     "start_time": "2023-05-01T08:57:16.070394",
     "status": "completed"
    },
    "tags": []
   },
   "outputs": [
    {
     "name": "stdout",
     "output_type": "stream",
     "text": [
      "/kaggle/input/maxico-housing-price-dataset/mexico-city-real-estate-5.csv\n",
      "/kaggle/input/maxico-housing-price-dataset/mexico-city-real-estate-4.csv\n",
      "/kaggle/input/maxico-housing-price-dataset/mexico-city-real-estate-1.csv\n",
      "/kaggle/input/maxico-housing-price-dataset/mexico-city-real-estate-2.csv\n",
      "/kaggle/input/maxico-housing-price-dataset/mexico-city-real-estate-3.csv\n"
     ]
    }
   ],
   "source": [
    "# This Python 3 environment comes with many helpful analytics libraries installed\n",
    "# It is defined by the kaggle/python Docker image: https://github.com/kaggle/docker-python\n",
    "# For example, here's several helpful packages to load\n",
    "\n",
    "import numpy as np # linear algebra\n",
    "import pandas as pd # data processing, CSV file I/O (e.g. pd.read_csv)\n",
    "\n",
    "# Input data files are available in the read-only \"../input/\" directory\n",
    "# For example, running this (by clicking run or pressing Shift+Enter) will list all files under the input directory\n",
    "\n",
    "import os\n",
    "for dirname, _, filenames in os.walk('/kaggle/input'):\n",
    "    for filename in filenames:\n",
    "        print(os.path.join(dirname, filename))\n",
    "\n",
    "# You can write up to 20GB to the current directory (/kaggle/working/) that gets preserved as output when you create a version using \"Save & Run All\" \n",
    "# You can also write temporary files to /kaggle/temp/, but they won't be saved outside of the current session"
   ]
  },
  {
   "cell_type": "code",
   "execution_count": 2,
   "id": "66132222",
   "metadata": {
    "execution": {
     "iopub.execute_input": "2023-05-01T08:57:16.116238Z",
     "iopub.status.busy": "2023-05-01T08:57:16.115060Z",
     "iopub.status.idle": "2023-05-01T08:57:17.632552Z",
     "shell.execute_reply": "2023-05-01T08:57:17.631583Z"
    },
    "papermill": {
     "duration": 1.527988,
     "end_time": "2023-05-01T08:57:17.635287",
     "exception": false,
     "start_time": "2023-05-01T08:57:16.107299",
     "status": "completed"
    },
    "tags": []
   },
   "outputs": [],
   "source": [
    "import warnings\n",
    "from glob import glob\n",
    "import matplotlib.pyplot as plt\n",
    "import numpy as np\n",
    "import pandas as pd\n",
    "from category_encoders import OneHotEncoder\n",
    "from sklearn.linear_model import LinearRegression, Ridge\n",
    "from sklearn.metrics import mean_absolute_error\n",
    "from sklearn.pipeline import make_pipeline\n",
    "from sklearn.utils.validation import check_is_fitted\n",
    "warnings.simplefilter(action=\"ignore\", category=FutureWarning)"
   ]
  },
  {
   "cell_type": "markdown",
   "id": "be593924",
   "metadata": {
    "papermill": {
     "duration": 0.005788,
     "end_time": "2023-05-01T08:57:17.647513",
     "exception": false,
     "start_time": "2023-05-01T08:57:17.641725",
     "status": "completed"
    },
    "tags": []
   },
   "source": [
    "# Prepare Data"
   ]
  },
  {
   "cell_type": "markdown",
   "id": "bc3f3dde",
   "metadata": {
    "papermill": {
     "duration": 0.005712,
     "end_time": "2023-05-01T08:57:17.659296",
     "exception": false,
     "start_time": "2023-05-01T08:57:17.653584",
     "status": "completed"
    },
    "tags": []
   },
   "source": [
    "## Import"
   ]
  },
  {
   "cell_type": "code",
   "execution_count": 3,
   "id": "ebc75e6d",
   "metadata": {
    "execution": {
     "iopub.execute_input": "2023-05-01T08:57:17.673180Z",
     "iopub.status.busy": "2023-05-01T08:57:17.672787Z",
     "iopub.status.idle": "2023-05-01T08:57:17.680435Z",
     "shell.execute_reply": "2023-05-01T08:57:17.679400Z"
    },
    "papermill": {
     "duration": 0.017694,
     "end_time": "2023-05-01T08:57:17.682923",
     "exception": false,
     "start_time": "2023-05-01T08:57:17.665229",
     "status": "completed"
    },
    "tags": []
   },
   "outputs": [],
   "source": [
    "# Write a wrangle function\n",
    "\n",
    "def wrangle(filepath):\n",
    "    # Read csv files into DataFrame\n",
    "    df=pd.read_csv(filepath)\n",
    "    \n",
    "    # Subset to properties in Distrito Federal\n",
    "    mask_ba=df[\"place_with_parent_names\"].str.contains(\"Distrito Federal\")\n",
    "    \n",
    "    # Subset to apartment\n",
    "    mask_apt=df[\"property_type\"]==\"apartment\"\n",
    "    \n",
    "    # Subset to properties where price usd <4000_000\n",
    "    mask_price=df[\"price_aprox_usd\"] < 4000_000\n",
    "    # Subset\n",
    "    df=df[mask_ba & mask_apt & mask_price]\n",
    "    \n",
    "    # Remove outliers by \"surface_covered_in_m2\"\n",
    "    low, high=df[\"surface_covered_in_m2\"].quantile([0.1, 0.9])\n",
    "    mask_area=df[\"surface_covered_in_m2\"].between(low, high)\n",
    "    df=df[mask_area]\n",
    "    \n",
    "    # Drop columns 'Unnamed: 0'\n",
    "    df.drop(columns=[\"Unnamed: 0\"], inplace=True)\n",
    "    \n",
    "    # Extract neighborhood\n",
    "    df[\"neighborhood\"]=df[\"place_with_parent_names\"].str.split(\"|\",  expand=True)[1]\n",
    "    df.drop(columns=[\"place_with_parent_names\"], inplace=True)\n",
    "\n",
    "\n",
    "    return df"
   ]
  },
  {
   "cell_type": "code",
   "execution_count": 4,
   "id": "08497eb0",
   "metadata": {
    "execution": {
     "iopub.execute_input": "2023-05-01T08:57:17.697778Z",
     "iopub.status.busy": "2023-05-01T08:57:17.696669Z",
     "iopub.status.idle": "2023-05-01T08:57:17.706267Z",
     "shell.execute_reply": "2023-05-01T08:57:17.705086Z"
    },
    "papermill": {
     "duration": 0.019376,
     "end_time": "2023-05-01T08:57:17.708567",
     "exception": false,
     "start_time": "2023-05-01T08:57:17.689191",
     "status": "completed"
    },
    "tags": []
   },
   "outputs": [
    {
     "data": {
      "text/plain": [
       "['/kaggle/input/maxico-housing-price-dataset/mexico-city-real-estate-5.csv',\n",
       " '/kaggle/input/maxico-housing-price-dataset/mexico-city-real-estate-4.csv',\n",
       " '/kaggle/input/maxico-housing-price-dataset/mexico-city-real-estate-1.csv',\n",
       " '/kaggle/input/maxico-housing-price-dataset/mexico-city-real-estate-2.csv',\n",
       " '/kaggle/input/maxico-housing-price-dataset/mexico-city-real-estate-3.csv']"
      ]
     },
     "execution_count": 4,
     "metadata": {},
     "output_type": "execute_result"
    }
   ],
   "source": [
    "# Use glob to create a list that contains the filenames for all the Mexico city real estate CSV files in the data directory\n",
    "\n",
    "files = glob(\"/kaggle/input/maxico-housing-price-dataset/mexico-city-real-estate-*.csv\")\n",
    "files"
   ]
  },
  {
   "cell_type": "code",
   "execution_count": 5,
   "id": "1ac600b5",
   "metadata": {
    "execution": {
     "iopub.execute_input": "2023-05-01T08:57:17.723327Z",
     "iopub.status.busy": "2023-05-01T08:57:17.722530Z",
     "iopub.status.idle": "2023-05-01T08:57:18.010847Z",
     "shell.execute_reply": "2023-05-01T08:57:18.009873Z"
    },
    "papermill": {
     "duration": 0.298597,
     "end_time": "2023-05-01T08:57:18.013497",
     "exception": false,
     "start_time": "2023-05-01T08:57:17.714900",
     "status": "completed"
    },
    "tags": []
   },
   "outputs": [],
   "source": [
    "frames = []\n",
    "for file in files:\n",
    "    df = wrangle(file)\n",
    "    frames.append(df)"
   ]
  },
  {
   "cell_type": "code",
   "execution_count": 6,
   "id": "c693bd70",
   "metadata": {
    "execution": {
     "iopub.execute_input": "2023-05-01T08:57:18.028167Z",
     "iopub.status.busy": "2023-05-01T08:57:18.027338Z",
     "iopub.status.idle": "2023-05-01T08:57:18.060887Z",
     "shell.execute_reply": "2023-05-01T08:57:18.059668Z"
    },
    "papermill": {
     "duration": 0.044077,
     "end_time": "2023-05-01T08:57:18.063880",
     "exception": false,
     "start_time": "2023-05-01T08:57:18.019803",
     "status": "completed"
    },
    "tags": []
   },
   "outputs": [
    {
     "data": {
      "text/html": [
       "<div>\n",
       "<style scoped>\n",
       "    .dataframe tbody tr th:only-of-type {\n",
       "        vertical-align: middle;\n",
       "    }\n",
       "\n",
       "    .dataframe tbody tr th {\n",
       "        vertical-align: top;\n",
       "    }\n",
       "\n",
       "    .dataframe thead th {\n",
       "        text-align: right;\n",
       "    }\n",
       "</style>\n",
       "<table border=\"1\" class=\"dataframe\">\n",
       "  <thead>\n",
       "    <tr style=\"text-align: right;\">\n",
       "      <th></th>\n",
       "      <th>operation</th>\n",
       "      <th>property_type</th>\n",
       "      <th>lat-lon</th>\n",
       "      <th>price</th>\n",
       "      <th>currency</th>\n",
       "      <th>price_aprox_local_currency</th>\n",
       "      <th>price_aprox_usd</th>\n",
       "      <th>surface_total_in_m2</th>\n",
       "      <th>surface_covered_in_m2</th>\n",
       "      <th>price_usd_per_m2</th>\n",
       "      <th>price_per_m2</th>\n",
       "      <th>floor</th>\n",
       "      <th>rooms</th>\n",
       "      <th>expenses</th>\n",
       "      <th>properati_url</th>\n",
       "      <th>neighborhood</th>\n",
       "    </tr>\n",
       "  </thead>\n",
       "  <tbody>\n",
       "    <tr>\n",
       "      <th>1</th>\n",
       "      <td>sell</td>\n",
       "      <td>apartment</td>\n",
       "      <td>19.36269,-99.150565</td>\n",
       "      <td>1570000.0</td>\n",
       "      <td>MXN</td>\n",
       "      <td>1556166.19</td>\n",
       "      <td>82737.39</td>\n",
       "      <td>NaN</td>\n",
       "      <td>75.0</td>\n",
       "      <td>NaN</td>\n",
       "      <td>20933.333330</td>\n",
       "      <td>NaN</td>\n",
       "      <td>NaN</td>\n",
       "      <td>NaN</td>\n",
       "      <td>http://benito-juarez.properati.com.mx/raei_ven...</td>\n",
       "      <td>Benito Juárez</td>\n",
       "    </tr>\n",
       "    <tr>\n",
       "      <th>2</th>\n",
       "      <td>sell</td>\n",
       "      <td>apartment</td>\n",
       "      <td>19.39912,-99.141464</td>\n",
       "      <td>2700000.0</td>\n",
       "      <td>MXN</td>\n",
       "      <td>2675574.95</td>\n",
       "      <td>142253.50</td>\n",
       "      <td>NaN</td>\n",
       "      <td>92.0</td>\n",
       "      <td>NaN</td>\n",
       "      <td>29347.826090</td>\n",
       "      <td>NaN</td>\n",
       "      <td>NaN</td>\n",
       "      <td>NaN</td>\n",
       "      <td>http://benito-juarez.properati.com.mx/odmz_ven...</td>\n",
       "      <td>Benito Juárez</td>\n",
       "    </tr>\n",
       "    <tr>\n",
       "      <th>3</th>\n",
       "      <td>sell</td>\n",
       "      <td>apartment</td>\n",
       "      <td>19.291345,-99.124312</td>\n",
       "      <td>1370000.0</td>\n",
       "      <td>MXN</td>\n",
       "      <td>1357928.55</td>\n",
       "      <td>72197.60</td>\n",
       "      <td>NaN</td>\n",
       "      <td>62.0</td>\n",
       "      <td>NaN</td>\n",
       "      <td>22096.774190</td>\n",
       "      <td>NaN</td>\n",
       "      <td>NaN</td>\n",
       "      <td>NaN</td>\n",
       "      <td>http://tlalpan.properati.com.mx/r1ho_venta_dep...</td>\n",
       "      <td>Tlalpan</td>\n",
       "    </tr>\n",
       "    <tr>\n",
       "      <th>4</th>\n",
       "      <td>sell</td>\n",
       "      <td>apartment</td>\n",
       "      <td>19.354987,-99.061709</td>\n",
       "      <td>840400.0</td>\n",
       "      <td>MXN</td>\n",
       "      <td>832797.49</td>\n",
       "      <td>44277.72</td>\n",
       "      <td>NaN</td>\n",
       "      <td>85.0</td>\n",
       "      <td>NaN</td>\n",
       "      <td>9887.058824</td>\n",
       "      <td>NaN</td>\n",
       "      <td>NaN</td>\n",
       "      <td>NaN</td>\n",
       "      <td>http://iztapalapa.properati.com.mx/px1c_venta_...</td>\n",
       "      <td>Iztapalapa</td>\n",
       "    </tr>\n",
       "    <tr>\n",
       "      <th>6</th>\n",
       "      <td>sell</td>\n",
       "      <td>apartment</td>\n",
       "      <td>19.39365,-99.14769</td>\n",
       "      <td>3671744.0</td>\n",
       "      <td>MXN</td>\n",
       "      <td>3639391.14</td>\n",
       "      <td>193497.15</td>\n",
       "      <td>NaN</td>\n",
       "      <td>56.0</td>\n",
       "      <td>NaN</td>\n",
       "      <td>65566.857140</td>\n",
       "      <td>NaN</td>\n",
       "      <td>NaN</td>\n",
       "      <td>NaN</td>\n",
       "      <td>http://benito-juarez.properati.com.mx/qwmb_ven...</td>\n",
       "      <td>Benito Juárez</td>\n",
       "    </tr>\n",
       "  </tbody>\n",
       "</table>\n",
       "</div>"
      ],
      "text/plain": [
       "  operation property_type               lat-lon      price currency  \\\n",
       "1      sell     apartment   19.36269,-99.150565  1570000.0      MXN   \n",
       "2      sell     apartment   19.39912,-99.141464  2700000.0      MXN   \n",
       "3      sell     apartment  19.291345,-99.124312  1370000.0      MXN   \n",
       "4      sell     apartment  19.354987,-99.061709   840400.0      MXN   \n",
       "6      sell     apartment    19.39365,-99.14769  3671744.0      MXN   \n",
       "\n",
       "   price_aprox_local_currency  price_aprox_usd  surface_total_in_m2  \\\n",
       "1                  1556166.19         82737.39                  NaN   \n",
       "2                  2675574.95        142253.50                  NaN   \n",
       "3                  1357928.55         72197.60                  NaN   \n",
       "4                   832797.49         44277.72                  NaN   \n",
       "6                  3639391.14        193497.15                  NaN   \n",
       "\n",
       "   surface_covered_in_m2  price_usd_per_m2  price_per_m2  floor  rooms  \\\n",
       "1                   75.0               NaN  20933.333330    NaN    NaN   \n",
       "2                   92.0               NaN  29347.826090    NaN    NaN   \n",
       "3                   62.0               NaN  22096.774190    NaN    NaN   \n",
       "4                   85.0               NaN   9887.058824    NaN    NaN   \n",
       "6                   56.0               NaN  65566.857140    NaN    NaN   \n",
       "\n",
       "   expenses                                      properati_url   neighborhood  \n",
       "1       NaN  http://benito-juarez.properati.com.mx/raei_ven...  Benito Juárez  \n",
       "2       NaN  http://benito-juarez.properati.com.mx/odmz_ven...  Benito Juárez  \n",
       "3       NaN  http://tlalpan.properati.com.mx/r1ho_venta_dep...        Tlalpan  \n",
       "4       NaN  http://iztapalapa.properati.com.mx/px1c_venta_...     Iztapalapa  \n",
       "6       NaN  http://benito-juarez.properati.com.mx/qwmb_ven...  Benito Juárez  "
      ]
     },
     "execution_count": 6,
     "metadata": {},
     "output_type": "execute_result"
    }
   ],
   "source": [
    "frames[0].head()"
   ]
  },
  {
   "cell_type": "code",
   "execution_count": 7,
   "id": "3ac14054",
   "metadata": {
    "execution": {
     "iopub.execute_input": "2023-05-01T08:57:18.078728Z",
     "iopub.status.busy": "2023-05-01T08:57:18.078315Z",
     "iopub.status.idle": "2023-05-01T08:57:18.093601Z",
     "shell.execute_reply": "2023-05-01T08:57:18.092399Z"
    },
    "papermill": {
     "duration": 0.02547,
     "end_time": "2023-05-01T08:57:18.095951",
     "exception": false,
     "start_time": "2023-05-01T08:57:18.070481",
     "status": "completed"
    },
    "tags": []
   },
   "outputs": [
    {
     "data": {
      "text/plain": [
       "(10517, 16)"
      ]
     },
     "execution_count": 7,
     "metadata": {},
     "output_type": "execute_result"
    }
   ],
   "source": [
    "df = pd.concat(frames, ignore_index=True)\n",
    "df.shape"
   ]
  },
  {
   "cell_type": "markdown",
   "id": "bd447d75",
   "metadata": {
    "papermill": {
     "duration": 0.006375,
     "end_time": "2023-05-01T08:57:18.108909",
     "exception": false,
     "start_time": "2023-05-01T08:57:18.102534",
     "status": "completed"
    },
    "tags": []
   },
   "source": [
    "## Explore"
   ]
  },
  {
   "cell_type": "markdown",
   "id": "3ada1096",
   "metadata": {
    "papermill": {
     "duration": 0.006316,
     "end_time": "2023-05-01T08:57:18.121627",
     "exception": false,
     "start_time": "2023-05-01T08:57:18.115311",
     "status": "completed"
    },
    "tags": []
   },
   "source": [
    "I have modify the wrangle function to create a new feature \"neighborhood\", it can be found in the \"place_with_parent_names\" column."
   ]
  },
  {
   "cell_type": "markdown",
   "id": "cddc7e6e",
   "metadata": {
    "papermill": {
     "duration": 0.006206,
     "end_time": "2023-05-01T08:57:18.135440",
     "exception": false,
     "start_time": "2023-05-01T08:57:18.129234",
     "status": "completed"
    },
    "tags": []
   },
   "source": [
    "## Split"
   ]
  },
  {
   "cell_type": "code",
   "execution_count": 8,
   "id": "0f00c079",
   "metadata": {
    "execution": {
     "iopub.execute_input": "2023-05-01T08:57:18.150825Z",
     "iopub.status.busy": "2023-05-01T08:57:18.150030Z",
     "iopub.status.idle": "2023-05-01T08:57:18.158722Z",
     "shell.execute_reply": "2023-05-01T08:57:18.157819Z"
    },
    "papermill": {
     "duration": 0.019392,
     "end_time": "2023-05-01T08:57:18.161280",
     "exception": false,
     "start_time": "2023-05-01T08:57:18.141888",
     "status": "completed"
    },
    "tags": []
   },
   "outputs": [],
   "source": [
    "target = \"price_aprox_usd\"\n",
    "features = [\"neighborhood\"]\n",
    "y_train = df[target]\n",
    "X_train = df[features]"
   ]
  },
  {
   "cell_type": "markdown",
   "id": "cbeedc15",
   "metadata": {
    "papermill": {
     "duration": 0.006279,
     "end_time": "2023-05-01T08:57:18.174279",
     "exception": false,
     "start_time": "2023-05-01T08:57:18.168000",
     "status": "completed"
    },
    "tags": []
   },
   "source": [
    "# Build Model"
   ]
  },
  {
   "cell_type": "markdown",
   "id": "3324d09f",
   "metadata": {
    "papermill": {
     "duration": 0.006313,
     "end_time": "2023-05-01T08:57:18.187224",
     "exception": false,
     "start_time": "2023-05-01T08:57:18.180911",
     "status": "completed"
    },
    "tags": []
   },
   "source": [
    "## Baseline"
   ]
  },
  {
   "cell_type": "code",
   "execution_count": 9,
   "id": "8d32c51f",
   "metadata": {
    "execution": {
     "iopub.execute_input": "2023-05-01T08:57:18.202984Z",
     "iopub.status.busy": "2023-05-01T08:57:18.202156Z",
     "iopub.status.idle": "2023-05-01T08:57:18.211200Z",
     "shell.execute_reply": "2023-05-01T08:57:18.209786Z"
    },
    "papermill": {
     "duration": 0.01943,
     "end_time": "2023-05-01T08:57:18.213405",
     "exception": false,
     "start_time": "2023-05-01T08:57:18.193975",
     "status": "completed"
    },
    "tags": []
   },
   "outputs": [
    {
     "name": "stdout",
     "output_type": "stream",
     "text": [
      "Mean apt price: 139840.24549681466\n",
      "Baseline MAE: 97097.63744007467\n"
     ]
    }
   ],
   "source": [
    "y_mean = y_train.mean()\n",
    "y_pred_baseline = [y_mean]* len(y_train)\n",
    "print(\"Mean apt price:\", y_mean)\n",
    "print(\"Baseline MAE:\", mean_absolute_error(y_train, y_pred_baseline))"
   ]
  },
  {
   "cell_type": "markdown",
   "id": "f99c268f",
   "metadata": {
    "papermill": {
     "duration": 0.006341,
     "end_time": "2023-05-01T08:57:18.226512",
     "exception": false,
     "start_time": "2023-05-01T08:57:18.220171",
     "status": "completed"
    },
    "tags": []
   },
   "source": [
    "## Iterate"
   ]
  },
  {
   "cell_type": "code",
   "execution_count": 10,
   "id": "8d1cc505",
   "metadata": {
    "execution": {
     "iopub.execute_input": "2023-05-01T08:57:18.242125Z",
     "iopub.status.busy": "2023-05-01T08:57:18.241367Z",
     "iopub.status.idle": "2023-05-01T08:57:18.299183Z",
     "shell.execute_reply": "2023-05-01T08:57:18.297923Z"
    },
    "papermill": {
     "duration": 0.068122,
     "end_time": "2023-05-01T08:57:18.301656",
     "exception": false,
     "start_time": "2023-05-01T08:57:18.233534",
     "status": "completed"
    },
    "tags": []
   },
   "outputs": [
    {
     "name": "stdout",
     "output_type": "stream",
     "text": [
      "(10517, 15)\n"
     ]
    },
    {
     "data": {
      "text/html": [
       "<div>\n",
       "<style scoped>\n",
       "    .dataframe tbody tr th:only-of-type {\n",
       "        vertical-align: middle;\n",
       "    }\n",
       "\n",
       "    .dataframe tbody tr th {\n",
       "        vertical-align: top;\n",
       "    }\n",
       "\n",
       "    .dataframe thead th {\n",
       "        text-align: right;\n",
       "    }\n",
       "</style>\n",
       "<table border=\"1\" class=\"dataframe\">\n",
       "  <thead>\n",
       "    <tr style=\"text-align: right;\">\n",
       "      <th></th>\n",
       "      <th>neighborhood_Benito Juárez</th>\n",
       "      <th>neighborhood_Tlalpan</th>\n",
       "      <th>neighborhood_Iztapalapa</th>\n",
       "      <th>neighborhood_Gustavo A. Madero</th>\n",
       "      <th>neighborhood_Venustiano Carranza</th>\n",
       "      <th>neighborhood_Cuauhtémoc</th>\n",
       "      <th>neighborhood_Álvaro Obregón</th>\n",
       "      <th>neighborhood_Iztacalco</th>\n",
       "      <th>neighborhood_Coyoacán</th>\n",
       "      <th>neighborhood_Miguel Hidalgo</th>\n",
       "      <th>neighborhood_Cuajimalpa de Morelos</th>\n",
       "      <th>neighborhood_Azcapotzalco</th>\n",
       "      <th>neighborhood_Tláhuac</th>\n",
       "      <th>neighborhood_La Magdalena Contreras</th>\n",
       "      <th>neighborhood_Xochimilco</th>\n",
       "    </tr>\n",
       "  </thead>\n",
       "  <tbody>\n",
       "    <tr>\n",
       "      <th>0</th>\n",
       "      <td>1</td>\n",
       "      <td>0</td>\n",
       "      <td>0</td>\n",
       "      <td>0</td>\n",
       "      <td>0</td>\n",
       "      <td>0</td>\n",
       "      <td>0</td>\n",
       "      <td>0</td>\n",
       "      <td>0</td>\n",
       "      <td>0</td>\n",
       "      <td>0</td>\n",
       "      <td>0</td>\n",
       "      <td>0</td>\n",
       "      <td>0</td>\n",
       "      <td>0</td>\n",
       "    </tr>\n",
       "    <tr>\n",
       "      <th>1</th>\n",
       "      <td>1</td>\n",
       "      <td>0</td>\n",
       "      <td>0</td>\n",
       "      <td>0</td>\n",
       "      <td>0</td>\n",
       "      <td>0</td>\n",
       "      <td>0</td>\n",
       "      <td>0</td>\n",
       "      <td>0</td>\n",
       "      <td>0</td>\n",
       "      <td>0</td>\n",
       "      <td>0</td>\n",
       "      <td>0</td>\n",
       "      <td>0</td>\n",
       "      <td>0</td>\n",
       "    </tr>\n",
       "    <tr>\n",
       "      <th>2</th>\n",
       "      <td>0</td>\n",
       "      <td>1</td>\n",
       "      <td>0</td>\n",
       "      <td>0</td>\n",
       "      <td>0</td>\n",
       "      <td>0</td>\n",
       "      <td>0</td>\n",
       "      <td>0</td>\n",
       "      <td>0</td>\n",
       "      <td>0</td>\n",
       "      <td>0</td>\n",
       "      <td>0</td>\n",
       "      <td>0</td>\n",
       "      <td>0</td>\n",
       "      <td>0</td>\n",
       "    </tr>\n",
       "    <tr>\n",
       "      <th>3</th>\n",
       "      <td>0</td>\n",
       "      <td>0</td>\n",
       "      <td>1</td>\n",
       "      <td>0</td>\n",
       "      <td>0</td>\n",
       "      <td>0</td>\n",
       "      <td>0</td>\n",
       "      <td>0</td>\n",
       "      <td>0</td>\n",
       "      <td>0</td>\n",
       "      <td>0</td>\n",
       "      <td>0</td>\n",
       "      <td>0</td>\n",
       "      <td>0</td>\n",
       "      <td>0</td>\n",
       "    </tr>\n",
       "    <tr>\n",
       "      <th>4</th>\n",
       "      <td>1</td>\n",
       "      <td>0</td>\n",
       "      <td>0</td>\n",
       "      <td>0</td>\n",
       "      <td>0</td>\n",
       "      <td>0</td>\n",
       "      <td>0</td>\n",
       "      <td>0</td>\n",
       "      <td>0</td>\n",
       "      <td>0</td>\n",
       "      <td>0</td>\n",
       "      <td>0</td>\n",
       "      <td>0</td>\n",
       "      <td>0</td>\n",
       "      <td>0</td>\n",
       "    </tr>\n",
       "  </tbody>\n",
       "</table>\n",
       "</div>"
      ],
      "text/plain": [
       "   neighborhood_Benito Juárez  neighborhood_Tlalpan  neighborhood_Iztapalapa  \\\n",
       "0                           1                     0                        0   \n",
       "1                           1                     0                        0   \n",
       "2                           0                     1                        0   \n",
       "3                           0                     0                        1   \n",
       "4                           1                     0                        0   \n",
       "\n",
       "   neighborhood_Gustavo A. Madero  neighborhood_Venustiano Carranza  \\\n",
       "0                               0                                 0   \n",
       "1                               0                                 0   \n",
       "2                               0                                 0   \n",
       "3                               0                                 0   \n",
       "4                               0                                 0   \n",
       "\n",
       "   neighborhood_Cuauhtémoc  neighborhood_Álvaro Obregón  \\\n",
       "0                        0                            0   \n",
       "1                        0                            0   \n",
       "2                        0                            0   \n",
       "3                        0                            0   \n",
       "4                        0                            0   \n",
       "\n",
       "   neighborhood_Iztacalco  neighborhood_Coyoacán  neighborhood_Miguel Hidalgo  \\\n",
       "0                       0                      0                            0   \n",
       "1                       0                      0                            0   \n",
       "2                       0                      0                            0   \n",
       "3                       0                      0                            0   \n",
       "4                       0                      0                            0   \n",
       "\n",
       "   neighborhood_Cuajimalpa de Morelos  neighborhood_Azcapotzalco  \\\n",
       "0                                   0                          0   \n",
       "1                                   0                          0   \n",
       "2                                   0                          0   \n",
       "3                                   0                          0   \n",
       "4                                   0                          0   \n",
       "\n",
       "   neighborhood_Tláhuac  neighborhood_La Magdalena Contreras  \\\n",
       "0                     0                                    0   \n",
       "1                     0                                    0   \n",
       "2                     0                                    0   \n",
       "3                     0                                    0   \n",
       "4                     0                                    0   \n",
       "\n",
       "   neighborhood_Xochimilco  \n",
       "0                        0  \n",
       "1                        0  \n",
       "2                        0  \n",
       "3                        0  \n",
       "4                        0  "
      ]
     },
     "execution_count": 10,
     "metadata": {},
     "output_type": "execute_result"
    }
   ],
   "source": [
    "# instantiate\n",
    "ohe = OneHotEncoder(use_cat_names=True)\n",
    "# fit\n",
    "ohe.fit(X_train)\n",
    "# Transform\n",
    "XT_train = ohe.transform(X_train)\n",
    "print(XT_train.shape)\n",
    "XT_train.head()"
   ]
  },
  {
   "cell_type": "code",
   "execution_count": 11,
   "id": "324d0eea",
   "metadata": {
    "execution": {
     "iopub.execute_input": "2023-05-01T08:57:18.318076Z",
     "iopub.status.busy": "2023-05-01T08:57:18.317112Z",
     "iopub.status.idle": "2023-05-01T08:57:18.391167Z",
     "shell.execute_reply": "2023-05-01T08:57:18.389799Z"
    },
    "papermill": {
     "duration": 0.08669,
     "end_time": "2023-05-01T08:57:18.395398",
     "exception": false,
     "start_time": "2023-05-01T08:57:18.308708",
     "status": "completed"
    },
    "tags": []
   },
   "outputs": [
    {
     "data": {
      "text/plain": [
       "Pipeline(steps=[('onehotencoder',\n",
       "                 OneHotEncoder(cols=['neighborhood'], use_cat_names=True)),\n",
       "                ('ridge', Ridge())])"
      ]
     },
     "execution_count": 11,
     "metadata": {},
     "output_type": "execute_result"
    }
   ],
   "source": [
    "model = make_pipeline(\n",
    "    OneHotEncoder(use_cat_names=True),\n",
    "    Ridge()\n",
    ")\n",
    "model.fit(X_train, y_train)"
   ]
  },
  {
   "cell_type": "markdown",
   "id": "145b438f",
   "metadata": {
    "papermill": {
     "duration": 0.017872,
     "end_time": "2023-05-01T08:57:18.432023",
     "exception": false,
     "start_time": "2023-05-01T08:57:18.414151",
     "status": "completed"
    },
    "tags": []
   },
   "source": [
    "## Evaluate"
   ]
  },
  {
   "cell_type": "code",
   "execution_count": 12,
   "id": "8aafa301",
   "metadata": {
    "execution": {
     "iopub.execute_input": "2023-05-01T08:57:18.471086Z",
     "iopub.status.busy": "2023-05-01T08:57:18.470391Z",
     "iopub.status.idle": "2023-05-01T08:57:18.500194Z",
     "shell.execute_reply": "2023-05-01T08:57:18.498671Z"
    },
    "papermill": {
     "duration": 0.054295,
     "end_time": "2023-05-01T08:57:18.504308",
     "exception": false,
     "start_time": "2023-05-01T08:57:18.450013",
     "status": "completed"
    },
    "tags": []
   },
   "outputs": [
    {
     "name": "stdout",
     "output_type": "stream",
     "text": [
      "Training MAE: 84504.8\n"
     ]
    }
   ],
   "source": [
    "y_pred_training = model.predict(X_train)\n",
    "mae_training = mean_absolute_error(y_train, y_pred_training)\n",
    "print(\"Training MAE:\", round(mae_training, 2))"
   ]
  },
  {
   "cell_type": "markdown",
   "id": "081b43da",
   "metadata": {
    "papermill": {
     "duration": 0.018581,
     "end_time": "2023-05-01T08:57:18.541715",
     "exception": false,
     "start_time": "2023-05-01T08:57:18.523134",
     "status": "completed"
    },
    "tags": []
   },
   "source": [
    "## Communicate Results"
   ]
  },
  {
   "cell_type": "code",
   "execution_count": 13,
   "id": "4fd9502b",
   "metadata": {
    "execution": {
     "iopub.execute_input": "2023-05-01T08:57:18.581614Z",
     "iopub.status.busy": "2023-05-01T08:57:18.580907Z",
     "iopub.status.idle": "2023-05-01T08:57:18.591680Z",
     "shell.execute_reply": "2023-05-01T08:57:18.590326Z"
    },
    "papermill": {
     "duration": 0.036216,
     "end_time": "2023-05-01T08:57:18.596452",
     "exception": false,
     "start_time": "2023-05-01T08:57:18.560236",
     "status": "completed"
    },
    "tags": []
   },
   "outputs": [
    {
     "name": "stdout",
     "output_type": "stream",
     "text": [
      "coefficients len: 15\n",
      "[ 35219.61613514  18923.25489278 -68878.55472088 -51813.59447974\n",
      " -56279.52699684]\n"
     ]
    }
   ],
   "source": [
    "intercept = model.named_steps[\"ridge\"].intercept_\n",
    "coefficients = model.named_steps[\"ridge\"].coef_\n",
    "print(\"coefficients len:\", len(coefficients))\n",
    "print(coefficients[:5])  # First five coefficients"
   ]
  },
  {
   "cell_type": "code",
   "execution_count": 14,
   "id": "38da5c36",
   "metadata": {
    "execution": {
     "iopub.execute_input": "2023-05-01T08:57:18.625033Z",
     "iopub.status.busy": "2023-05-01T08:57:18.624669Z",
     "iopub.status.idle": "2023-05-01T08:57:18.630047Z",
     "shell.execute_reply": "2023-05-01T08:57:18.629253Z"
    },
    "papermill": {
     "duration": 0.016523,
     "end_time": "2023-05-01T08:57:18.632541",
     "exception": false,
     "start_time": "2023-05-01T08:57:18.616018",
     "status": "completed"
    },
    "tags": []
   },
   "outputs": [
    {
     "name": "stdout",
     "output_type": "stream",
     "text": [
      "features len: 15\n",
      "['neighborhood_Benito Juárez', 'neighborhood_Tlalpan', 'neighborhood_Iztapalapa', 'neighborhood_Gustavo A. Madero', 'neighborhood_Venustiano Carranza']\n"
     ]
    }
   ],
   "source": [
    "# Extract the feature names of encoded data from the OneHotEncoder\n",
    "feature_names = model.named_steps[\"onehotencoder\"].get_feature_names()\n",
    "print(\"features len:\", len(feature_names))\n",
    "print(feature_names[:5])  # First five feature names"
   ]
  },
  {
   "cell_type": "code",
   "execution_count": 15,
   "id": "f90c0def",
   "metadata": {
    "execution": {
     "iopub.execute_input": "2023-05-01T08:57:18.648788Z",
     "iopub.status.busy": "2023-05-01T08:57:18.648415Z",
     "iopub.status.idle": "2023-05-01T08:57:18.656706Z",
     "shell.execute_reply": "2023-05-01T08:57:18.655637Z"
    },
    "papermill": {
     "duration": 0.018997,
     "end_time": "2023-05-01T08:57:18.658824",
     "exception": false,
     "start_time": "2023-05-01T08:57:18.639827",
     "status": "completed"
    },
    "tags": []
   },
   "outputs": [
    {
     "data": {
      "text/plain": [
       "neighborhood_Benito Juárez          35219.616135\n",
       "neighborhood_Tlalpan                18923.254893\n",
       "neighborhood_Iztapalapa            -68878.554721\n",
       "neighborhood_Gustavo A. Madero     -51813.594480\n",
       "neighborhood_Venustiano Carranza   -56279.526997\n",
       "dtype: float64"
      ]
     },
     "execution_count": 15,
     "metadata": {},
     "output_type": "execute_result"
    }
   ],
   "source": [
    "#  Create a pandas Series\n",
    "feat_imp = pd.Series(coefficients, index=feature_names)\n",
    "feat_imp.head()"
   ]
  },
  {
   "cell_type": "code",
   "execution_count": 16,
   "id": "53d4a83f",
   "metadata": {
    "execution": {
     "iopub.execute_input": "2023-05-01T08:57:18.674827Z",
     "iopub.status.busy": "2023-05-01T08:57:18.674452Z",
     "iopub.status.idle": "2023-05-01T08:57:18.681002Z",
     "shell.execute_reply": "2023-05-01T08:57:18.679645Z"
    },
    "papermill": {
     "duration": 0.017076,
     "end_time": "2023-05-01T08:57:18.683187",
     "exception": false,
     "start_time": "2023-05-01T08:57:18.666111",
     "status": "completed"
    },
    "tags": []
   },
   "outputs": [
    {
     "name": "stdout",
     "output_type": "stream",
     "text": [
      "price = 114061.33\n",
      "+ (35219.62 * neighborhood_Benito Juárez)\n",
      "+ (18923.25 * neighborhood_Tlalpan)\n",
      "+ (-68878.55 * neighborhood_Iztapalapa)\n",
      "+ (-51813.59 * neighborhood_Gustavo A. Madero)\n",
      "+ (-56279.53 * neighborhood_Venustiano Carranza)\n",
      "+ (17523.77 * neighborhood_Cuauhtémoc)\n",
      "+ (21276.04 * neighborhood_Álvaro Obregón)\n",
      "+ (-59498.79 * neighborhood_Iztacalco)\n",
      "+ (-19630.95 * neighborhood_Coyoacán)\n",
      "+ (178935.18 * neighborhood_Miguel Hidalgo)\n",
      "+ (127648.28 * neighborhood_Cuajimalpa de Morelos)\n",
      "+ (-50067.73 * neighborhood_Azcapotzalco)\n",
      "+ (-67215.25 * neighborhood_Tláhuac)\n",
      "+ (28334.06 * neighborhood_La Magdalena Contreras)\n",
      "+ (-54475.83 * neighborhood_Xochimilco)\n"
     ]
    }
   ],
   "source": [
    "# Print the equation\n",
    "print(f\"price = {intercept.round(2)}\")\n",
    "for f, c in feat_imp.items():\n",
    "    print(f\"+ ({round(c, 2)} * {f})\")"
   ]
  },
  {
   "cell_type": "code",
   "execution_count": 17,
   "id": "1dd1b0e3",
   "metadata": {
    "execution": {
     "iopub.execute_input": "2023-05-01T08:57:18.700435Z",
     "iopub.status.busy": "2023-05-01T08:57:18.699803Z",
     "iopub.status.idle": "2023-05-01T08:57:19.123612Z",
     "shell.execute_reply": "2023-05-01T08:57:19.122758Z"
    },
    "papermill": {
     "duration": 0.435087,
     "end_time": "2023-05-01T08:57:19.126197",
     "exception": false,
     "start_time": "2023-05-01T08:57:18.691110",
     "status": "completed"
    },
    "tags": []
   },
   "outputs": [
    {
     "data": {
      "image/png": "[encoded data removed]",
      "text/plain": [
       "<Figure size 640x480 with 1 Axes>"
      ]
     },
     "metadata": {},
     "output_type": "display_data"
    }
   ],
   "source": [
    "#  Create a horizontal bar chart that shows the top 15 coefficients for the model, based on their absolute value.\n",
    "\n",
    "feat_imp.sort_values(key=abs).tail(15).plot(kind=\"barh\")\n",
    "plt.xlabel(\"Importance [USD]\")\n",
    "plt.ylabel(\"Feature\")\n",
    "plt.title(\"feature Importance for Apartment Price\");"
   ]
  }
 ],
 "metadata": {
  "kernelspec": {
   "display_name": "Python 3",
   "language": "python",
   "name": "python3"
  },
  "language_info": {
   "codemirror_mode": {
    "name": "ipython",
    "version": 3
   },
   "file_extension": ".py",
   "mimetype": "text/x-python",
   "name": "python",
   "nbconvert_exporter": "python",
   "pygments_lexer": "ipython3",
   "version": "3.7.12"
  },
  "papermill": {
   "default_parameters": {},
   "duration": 13.473094,
   "end_time": "2023-05-01T08:57:19.856497",
   "environment_variables": {},
   "exception": null,
   "input_path": "__notebook__.ipynb",
   "output_path": "__notebook__.ipynb",
   "parameters": {},
   "start_time": "2023-05-01T08:57:06.383403",
   "version": "2.4.0"
  }
 },
 "nbformat": 4,
 "nbformat_minor": 5
}

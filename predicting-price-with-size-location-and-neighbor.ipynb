{
 "cells": [
  {
   "cell_type": "code",
   "execution_count": 1,
   "id": "793b2a72",
   "metadata": {
    "_cell_guid": "b1076dfc-b9ad-4769-8c92-a6c4dae69d19",
    "_uuid": "8f2839f25d086af736a60e9eeb907d3b93b6e0e5",
    "execution": {
     "iopub.execute_input": "2023-04-24T20:48:17.099812Z",
     "iopub.status.busy": "2023-04-24T20:48:17.098995Z",
     "iopub.status.idle": "2023-04-24T20:48:17.118706Z",
     "shell.execute_reply": "2023-04-24T20:48:17.117735Z"
    },
    "papermill": {
     "duration": 0.031473,
     "end_time": "2023-04-24T20:48:17.121754",
     "exception": false,
     "start_time": "2023-04-24T20:48:17.090281",
     "status": "completed"
    },
    "tags": []
   },
   "outputs": [
    {
     "name": "stdout",
     "output_type": "stream",
     "text": [
      "/kaggle/input/maxico-housing-price-dataset/mexico-city-real-estate-5.csv\n",
      "/kaggle/input/maxico-housing-price-dataset/mexico-city-real-estate-4.csv\n",
      "/kaggle/input/maxico-housing-price-dataset/mexico-city-real-estate-1.csv\n",
      "/kaggle/input/maxico-housing-price-dataset/mexico-city-real-estate-2.csv\n",
      "/kaggle/input/maxico-housing-price-dataset/mexico-city-real-estate-3.csv\n"
     ]
    }
   ],
   "source": [
    "# This Python 3 environment comes with many helpful analytics libraries installed\n",
    "# It is defined by the kaggle/python Docker image: https://github.com/kaggle/docker-python\n",
    "# For example, here's several helpful packages to load\n",
    "\n",
    "import numpy as np # linear algebra\n",
    "import pandas as pd # data processing, CSV file I/O (e.g. pd.read_csv)\n",
    "\n",
    "# Input data files are available in the read-only \"../input/\" directory\n",
    "# For example, running this (by clicking run or pressing Shift+Enter) will list all files under the input directory\n",
    "\n",
    "import os\n",
    "for dirname, _, filenames in os.walk('/kaggle/input'):\n",
    "    for filename in filenames:\n",
    "        print(os.path.join(dirname, filename))\n",
    "\n",
    "# You can write up to 20GB to the current directory (/kaggle/working/) that gets preserved as output when you create a version using \"Save & Run All\" \n",
    "# You can also write temporary files to /kaggle/temp/, but they won't be saved outside of the current session"
   ]
  },
  {
   "cell_type": "code",
   "execution_count": 2,
   "id": "f73ab74b",
   "metadata": {
    "execution": {
     "iopub.execute_input": "2023-04-24T20:48:17.135463Z",
     "iopub.status.busy": "2023-04-24T20:48:17.134706Z",
     "iopub.status.idle": "2023-04-24T20:48:19.541242Z",
     "shell.execute_reply": "2023-04-24T20:48:19.539735Z"
    },
    "papermill": {
     "duration": 2.41711,
     "end_time": "2023-04-24T20:48:19.544675",
     "exception": false,
     "start_time": "2023-04-24T20:48:17.127565",
     "status": "completed"
    },
    "tags": []
   },
   "outputs": [],
   "source": [
    "import warnings\n",
    "from glob import glob\n",
    "import pandas as pd\n",
    "import seaborn as sns\n",
    "from category_encoders import OneHotEncoder\n",
    "from ipywidgets import Dropdown, FloatSlider, IntSlider, interact\n",
    "from sklearn.impute import SimpleImputer\n",
    "from sklearn.linear_model import LinearRegression, Ridge  # noqa F401\n",
    "from sklearn.metrics import mean_absolute_error\n",
    "from sklearn.pipeline import make_pipeline\n",
    "from sklearn.utils.validation import check_is_fitted\n",
    "warnings.simplefilter(action=\"ignore\", category=FutureWarning)"
   ]
  },
  {
   "cell_type": "markdown",
   "id": "408d93e7",
   "metadata": {
    "papermill": {
     "duration": 0.005295,
     "end_time": "2023-04-24T20:48:19.555620",
     "exception": false,
     "start_time": "2023-04-24T20:48:19.550325",
     "status": "completed"
    },
    "tags": []
   },
   "source": [
    "# Prepare Data"
   ]
  },
  {
   "cell_type": "markdown",
   "id": "0909b422",
   "metadata": {
    "papermill": {
     "duration": 0.00527,
     "end_time": "2023-04-24T20:48:19.566445",
     "exception": false,
     "start_time": "2023-04-24T20:48:19.561175",
     "status": "completed"
    },
    "tags": []
   },
   "source": [
    "## Import"
   ]
  },
  {
   "cell_type": "code",
   "execution_count": 3,
   "id": "cc9d390c",
   "metadata": {
    "execution": {
     "iopub.execute_input": "2023-04-24T20:48:19.580513Z",
     "iopub.status.busy": "2023-04-24T20:48:19.579269Z",
     "iopub.status.idle": "2023-04-24T20:48:19.591225Z",
     "shell.execute_reply": "2023-04-24T20:48:19.590115Z"
    },
    "papermill": {
     "duration": 0.022362,
     "end_time": "2023-04-24T20:48:19.594384",
     "exception": false,
     "start_time": "2023-04-24T20:48:19.572022",
     "status": "completed"
    },
    "tags": []
   },
   "outputs": [],
   "source": [
    "# Write a wrangle function\n",
    "\n",
    "def wrangle(filepath):\n",
    "    # Read csv files into DataFrame\n",
    "    df=pd.read_csv(filepath)\n",
    "    \n",
    "    # Subset to properties where price usd <4000_000\n",
    "    mask_ba=df[\"place_with_parent_names\"].str.contains(\"Distrito Federal\")\n",
    "    mask_apt=df[\"property_type\"]==\"apartment\"\n",
    "    mask_price=df[\"price_aprox_usd\"] < 4000_000\n",
    "    df=df[mask_ba & mask_apt & mask_price]\n",
    "    \n",
    "    # Remove outliers by \"surface_covered_in_m2\"\n",
    "    low, high=df[\"surface_covered_in_m2\"].quantile([0.1, 0.9])\n",
    "    mask_area=df[\"surface_covered_in_m2\"].between(low, high)\n",
    "    df=df[mask_area]\n",
    "    \n",
    "    # Drop columns 'Unnamed: 0'\n",
    "    df.drop(columns=[\"Unnamed: 0\"], inplace=True)\n",
    "    \n",
    "    # Split \"lat-lon\" column\n",
    "    df[[\"lat\", \"lon\"]] = df[\"lat-lon\"].str.split(\",\", expand=True).astype(float)\n",
    "    df.drop(columns=\"lat-lon\", inplace=True)\n",
    "    \n",
    "    # Extract neighborhood\n",
    "    df[\"neighborhood\"]=df[\"place_with_parent_names\"].str.split(\"|\",  expand=True)[1]\n",
    "    df.drop(columns=[\"place_with_parent_names\"], inplace=True)\n",
    "    \n",
    "    # Drop features with high null count\n",
    "    df.drop(columns=[\"floor\", \"rooms\",\"surface_total_in_m2\", \"expenses\", \"price_usd_per_m2\"], inplace=True)\n",
    "    \n",
    "    # Drop low- and high-cardinality categorical variables\n",
    "    df.drop(columns=[\"operation\", \"property_type\", \"currency\", \"properati_url\"], inplace=True)\n",
    "    \n",
    "    # drop leaky columns\n",
    "    df.drop(columns=[\n",
    "        'price',\n",
    "        'price_aprox_local_currency',\n",
    "        'price_per_m2'\n",
    "    ], inplace = True)\n",
    "\n",
    "    return df"
   ]
  },
  {
   "cell_type": "code",
   "execution_count": 4,
   "id": "73d3525e",
   "metadata": {
    "execution": {
     "iopub.execute_input": "2023-04-24T20:48:19.608237Z",
     "iopub.status.busy": "2023-04-24T20:48:19.607735Z",
     "iopub.status.idle": "2023-04-24T20:48:19.618148Z",
     "shell.execute_reply": "2023-04-24T20:48:19.616970Z"
    },
    "papermill": {
     "duration": 0.020927,
     "end_time": "2023-04-24T20:48:19.621146",
     "exception": false,
     "start_time": "2023-04-24T20:48:19.600219",
     "status": "completed"
    },
    "tags": []
   },
   "outputs": [
    {
     "data": {
      "text/plain": [
       "['/kaggle/input/maxico-housing-price-dataset/mexico-city-real-estate-5.csv',\n",
       " '/kaggle/input/maxico-housing-price-dataset/mexico-city-real-estate-4.csv',\n",
       " '/kaggle/input/maxico-housing-price-dataset/mexico-city-real-estate-1.csv',\n",
       " '/kaggle/input/maxico-housing-price-dataset/mexico-city-real-estate-2.csv',\n",
       " '/kaggle/input/maxico-housing-price-dataset/mexico-city-real-estate-3.csv']"
      ]
     },
     "execution_count": 4,
     "metadata": {},
     "output_type": "execute_result"
    }
   ],
   "source": [
    "# Use glob to create a list\n",
    "\n",
    "files = glob(\"/kaggle/input/maxico-housing-price-dataset/mexico-city-real-estate-*.csv\")\n",
    "files"
   ]
  },
  {
   "cell_type": "code",
   "execution_count": 5,
   "id": "99d23807",
   "metadata": {
    "execution": {
     "iopub.execute_input": "2023-04-24T20:48:19.634861Z",
     "iopub.status.busy": "2023-04-24T20:48:19.634069Z",
     "iopub.status.idle": "2023-04-24T20:48:20.006105Z",
     "shell.execute_reply": "2023-04-24T20:48:20.004926Z"
    },
    "papermill": {
     "duration": 0.382207,
     "end_time": "2023-04-24T20:48:20.009131",
     "exception": false,
     "start_time": "2023-04-24T20:48:19.626924",
     "status": "completed"
    },
    "tags": []
   },
   "outputs": [],
   "source": [
    "# Use wrangle function in a list comprehension to create a list \n",
    "\n",
    "frames = [wrangle(file) for file in files]"
   ]
  },
  {
   "cell_type": "code",
   "execution_count": 6,
   "id": "13a61302",
   "metadata": {
    "execution": {
     "iopub.execute_input": "2023-04-24T20:48:20.023217Z",
     "iopub.status.busy": "2023-04-24T20:48:20.022803Z",
     "iopub.status.idle": "2023-04-24T20:48:20.314115Z",
     "shell.execute_reply": "2023-04-24T20:48:20.312677Z"
    },
    "papermill": {
     "duration": 0.301807,
     "end_time": "2023-04-24T20:48:20.316902",
     "exception": false,
     "start_time": "2023-04-24T20:48:20.015095",
     "status": "completed"
    },
    "tags": []
   },
   "outputs": [
    {
     "name": "stdout",
     "output_type": "stream",
     "text": [
      "<class 'pandas.core.frame.DataFrame'>\n",
      "RangeIndex: 10517 entries, 0 to 10516\n",
      "Data columns (total 5 columns):\n",
      " #   Column                 Non-Null Count  Dtype  \n",
      "---  ------                 --------------  -----  \n",
      " 0   price_aprox_usd        10517 non-null  float64\n",
      " 1   surface_covered_in_m2  10517 non-null  float64\n",
      " 2   lat                    9683 non-null   float64\n",
      " 3   lon                    9683 non-null   float64\n",
      " 4   neighborhood           10517 non-null  object \n",
      "dtypes: float64(4), object(1)\n",
      "memory usage: 410.9+ KB\n",
      "None\n"
     ]
    },
    {
     "data": {
      "text/html": [
       "<div>\n",
       "<style scoped>\n",
       "    .dataframe tbody tr th:only-of-type {\n",
       "        vertical-align: middle;\n",
       "    }\n",
       "\n",
       "    .dataframe tbody tr th {\n",
       "        vertical-align: top;\n",
       "    }\n",
       "\n",
       "    .dataframe thead th {\n",
       "        text-align: right;\n",
       "    }\n",
       "</style>\n",
       "<table border=\"1\" class=\"dataframe\">\n",
       "  <thead>\n",
       "    <tr style=\"text-align: right;\">\n",
       "      <th></th>\n",
       "      <th>price_aprox_usd</th>\n",
       "      <th>surface_covered_in_m2</th>\n",
       "      <th>lat</th>\n",
       "      <th>lon</th>\n",
       "      <th>neighborhood</th>\n",
       "    </tr>\n",
       "  </thead>\n",
       "  <tbody>\n",
       "    <tr>\n",
       "      <th>0</th>\n",
       "      <td>82737.39</td>\n",
       "      <td>75.0</td>\n",
       "      <td>19.362690</td>\n",
       "      <td>-99.150565</td>\n",
       "      <td>Benito Juárez</td>\n",
       "    </tr>\n",
       "    <tr>\n",
       "      <th>1</th>\n",
       "      <td>142253.50</td>\n",
       "      <td>92.0</td>\n",
       "      <td>19.399120</td>\n",
       "      <td>-99.141464</td>\n",
       "      <td>Benito Juárez</td>\n",
       "    </tr>\n",
       "    <tr>\n",
       "      <th>2</th>\n",
       "      <td>72197.60</td>\n",
       "      <td>62.0</td>\n",
       "      <td>19.291345</td>\n",
       "      <td>-99.124312</td>\n",
       "      <td>Tlalpan</td>\n",
       "    </tr>\n",
       "    <tr>\n",
       "      <th>3</th>\n",
       "      <td>44277.72</td>\n",
       "      <td>85.0</td>\n",
       "      <td>19.354987</td>\n",
       "      <td>-99.061709</td>\n",
       "      <td>Iztapalapa</td>\n",
       "    </tr>\n",
       "    <tr>\n",
       "      <th>4</th>\n",
       "      <td>193497.15</td>\n",
       "      <td>56.0</td>\n",
       "      <td>19.393650</td>\n",
       "      <td>-99.147690</td>\n",
       "      <td>Benito Juárez</td>\n",
       "    </tr>\n",
       "  </tbody>\n",
       "</table>\n",
       "</div>"
      ],
      "text/plain": [
       "   price_aprox_usd  surface_covered_in_m2        lat        lon   neighborhood\n",
       "0         82737.39                   75.0  19.362690 -99.150565  Benito Juárez\n",
       "1        142253.50                   92.0  19.399120 -99.141464  Benito Juárez\n",
       "2         72197.60                   62.0  19.291345 -99.124312        Tlalpan\n",
       "3         44277.72                   85.0  19.354987 -99.061709     Iztapalapa\n",
       "4        193497.15                   56.0  19.393650 -99.147690  Benito Juárez"
      ]
     },
     "execution_count": 6,
     "metadata": {},
     "output_type": "execute_result"
    }
   ],
   "source": [
    "# concat\n",
    "\n",
    "df = pd.concat([wrangle(file) for file in files], ignore_index=True)\n",
    "print(df.info())\n",
    "df.head()"
   ]
  },
  {
   "cell_type": "markdown",
   "id": "12da2136",
   "metadata": {
    "papermill": {
     "duration": 0.005682,
     "end_time": "2023-04-24T20:48:20.328694",
     "exception": false,
     "start_time": "2023-04-24T20:48:20.323012",
     "status": "completed"
    },
    "tags": []
   },
   "source": [
    "## Explore"
   ]
  },
  {
   "cell_type": "code",
   "execution_count": 7,
   "id": "67d0d06a",
   "metadata": {
    "execution": {
     "iopub.execute_input": "2023-04-24T20:48:20.342657Z",
     "iopub.status.busy": "2023-04-24T20:48:20.342192Z",
     "iopub.status.idle": "2023-04-24T20:48:20.677301Z",
     "shell.execute_reply": "2023-04-24T20:48:20.675588Z"
    },
    "papermill": {
     "duration": 0.345854,
     "end_time": "2023-04-24T20:48:20.680559",
     "exception": false,
     "start_time": "2023-04-24T20:48:20.334705",
     "status": "completed"
    },
    "tags": []
   },
   "outputs": [
    {
     "data": {
      "text/plain": [
       "<AxesSubplot:>"
      ]
     },
     "execution_count": 7,
     "metadata": {},
     "output_type": "execute_result"
    },
    {
     "data": {
      "image/png": "[encoded data removed]",
      "text/plain": [
       "<Figure size 640x480 with 2 Axes>"
      ]
     },
     "metadata": {},
     "output_type": "display_data"
    }
   ],
   "source": [
    "corr=df.select_dtypes(\"number\").drop(columns = \"price_aprox_usd\").corr()\n",
    "sns.heatmap(corr)"
   ]
  },
  {
   "cell_type": "markdown",
   "id": "61a212b8",
   "metadata": {
    "papermill": {
     "duration": 0.006145,
     "end_time": "2023-04-24T20:48:20.693604",
     "exception": false,
     "start_time": "2023-04-24T20:48:20.687459",
     "status": "completed"
    },
    "tags": []
   },
   "source": [
    "## Split"
   ]
  },
  {
   "cell_type": "code",
   "execution_count": 8,
   "id": "91451ea1",
   "metadata": {
    "execution": {
     "iopub.execute_input": "2023-04-24T20:48:20.709010Z",
     "iopub.status.busy": "2023-04-24T20:48:20.708540Z",
     "iopub.status.idle": "2023-04-24T20:48:20.716724Z",
     "shell.execute_reply": "2023-04-24T20:48:20.715062Z"
    },
    "papermill": {
     "duration": 0.019374,
     "end_time": "2023-04-24T20:48:20.719600",
     "exception": false,
     "start_time": "2023-04-24T20:48:20.700226",
     "status": "completed"
    },
    "tags": []
   },
   "outputs": [],
   "source": [
    "target = \"price_aprox_usd\"\n",
    "features = df[[\"surface_covered_in_m2\",\"lat\",\"lon\",\"neighborhood\"]]\n",
    "X_train = features\n",
    "y_train = df[target]"
   ]
  },
  {
   "cell_type": "code",
   "execution_count": 9,
   "id": "07c8f800",
   "metadata": {
    "execution": {
     "iopub.execute_input": "2023-04-24T20:48:20.736004Z",
     "iopub.status.busy": "2023-04-24T20:48:20.735520Z",
     "iopub.status.idle": "2023-04-24T20:48:20.745060Z",
     "shell.execute_reply": "2023-04-24T20:48:20.743247Z"
    },
    "papermill": {
     "duration": 0.020452,
     "end_time": "2023-04-24T20:48:20.747759",
     "exception": false,
     "start_time": "2023-04-24T20:48:20.727307",
     "status": "completed"
    },
    "tags": []
   },
   "outputs": [
    {
     "name": "stdout",
     "output_type": "stream",
     "text": [
      "Mean apt price: 139840.25\n",
      "Baseline MAE: 97097.63744007467\n"
     ]
    }
   ],
   "source": [
    "# Calculate the baseline mean absolute error\n",
    "\n",
    "y_mean = y_train.mean()\n",
    "y_pred_baseline = [y_mean] * len(y_train)\n",
    "print(\"Mean apt price:\", round(y_mean, 2))\n",
    "print(\"Baseline MAE:\", mean_absolute_error(y_train, y_pred_baseline))"
   ]
  },
  {
   "cell_type": "code",
   "execution_count": 10,
   "id": "36d5aba8",
   "metadata": {
    "execution": {
     "iopub.execute_input": "2023-04-24T20:48:20.763328Z",
     "iopub.status.busy": "2023-04-24T20:48:20.762905Z",
     "iopub.status.idle": "2023-04-24T20:48:20.828921Z",
     "shell.execute_reply": "2023-04-24T20:48:20.827465Z"
    },
    "papermill": {
     "duration": 0.076958,
     "end_time": "2023-04-24T20:48:20.831444",
     "exception": false,
     "start_time": "2023-04-24T20:48:20.754486",
     "status": "completed"
    },
    "tags": []
   },
   "outputs": [
    {
     "name": "stdout",
     "output_type": "stream",
     "text": [
      "(10517, 18)\n"
     ]
    },
    {
     "data": {
      "text/html": [
       "<div>\n",
       "<style scoped>\n",
       "    .dataframe tbody tr th:only-of-type {\n",
       "        vertical-align: middle;\n",
       "    }\n",
       "\n",
       "    .dataframe tbody tr th {\n",
       "        vertical-align: top;\n",
       "    }\n",
       "\n",
       "    .dataframe thead th {\n",
       "        text-align: right;\n",
       "    }\n",
       "</style>\n",
       "<table border=\"1\" class=\"dataframe\">\n",
       "  <thead>\n",
       "    <tr style=\"text-align: right;\">\n",
       "      <th></th>\n",
       "      <th>surface_covered_in_m2</th>\n",
       "      <th>lat</th>\n",
       "      <th>lon</th>\n",
       "      <th>neighborhood_Benito Juárez</th>\n",
       "      <th>neighborhood_Tlalpan</th>\n",
       "      <th>neighborhood_Iztapalapa</th>\n",
       "      <th>neighborhood_Gustavo A. Madero</th>\n",
       "      <th>neighborhood_Venustiano Carranza</th>\n",
       "      <th>neighborhood_Cuauhtémoc</th>\n",
       "      <th>neighborhood_Álvaro Obregón</th>\n",
       "      <th>neighborhood_Iztacalco</th>\n",
       "      <th>neighborhood_Coyoacán</th>\n",
       "      <th>neighborhood_Miguel Hidalgo</th>\n",
       "      <th>neighborhood_Cuajimalpa de Morelos</th>\n",
       "      <th>neighborhood_Azcapotzalco</th>\n",
       "      <th>neighborhood_Tláhuac</th>\n",
       "      <th>neighborhood_La Magdalena Contreras</th>\n",
       "      <th>neighborhood_Xochimilco</th>\n",
       "    </tr>\n",
       "  </thead>\n",
       "  <tbody>\n",
       "    <tr>\n",
       "      <th>0</th>\n",
       "      <td>75.0</td>\n",
       "      <td>19.362690</td>\n",
       "      <td>-99.150565</td>\n",
       "      <td>1</td>\n",
       "      <td>0</td>\n",
       "      <td>0</td>\n",
       "      <td>0</td>\n",
       "      <td>0</td>\n",
       "      <td>0</td>\n",
       "      <td>0</td>\n",
       "      <td>0</td>\n",
       "      <td>0</td>\n",
       "      <td>0</td>\n",
       "      <td>0</td>\n",
       "      <td>0</td>\n",
       "      <td>0</td>\n",
       "      <td>0</td>\n",
       "      <td>0</td>\n",
       "    </tr>\n",
       "    <tr>\n",
       "      <th>1</th>\n",
       "      <td>92.0</td>\n",
       "      <td>19.399120</td>\n",
       "      <td>-99.141464</td>\n",
       "      <td>1</td>\n",
       "      <td>0</td>\n",
       "      <td>0</td>\n",
       "      <td>0</td>\n",
       "      <td>0</td>\n",
       "      <td>0</td>\n",
       "      <td>0</td>\n",
       "      <td>0</td>\n",
       "      <td>0</td>\n",
       "      <td>0</td>\n",
       "      <td>0</td>\n",
       "      <td>0</td>\n",
       "      <td>0</td>\n",
       "      <td>0</td>\n",
       "      <td>0</td>\n",
       "    </tr>\n",
       "    <tr>\n",
       "      <th>2</th>\n",
       "      <td>62.0</td>\n",
       "      <td>19.291345</td>\n",
       "      <td>-99.124312</td>\n",
       "      <td>0</td>\n",
       "      <td>1</td>\n",
       "      <td>0</td>\n",
       "      <td>0</td>\n",
       "      <td>0</td>\n",
       "      <td>0</td>\n",
       "      <td>0</td>\n",
       "      <td>0</td>\n",
       "      <td>0</td>\n",
       "      <td>0</td>\n",
       "      <td>0</td>\n",
       "      <td>0</td>\n",
       "      <td>0</td>\n",
       "      <td>0</td>\n",
       "      <td>0</td>\n",
       "    </tr>\n",
       "    <tr>\n",
       "      <th>3</th>\n",
       "      <td>85.0</td>\n",
       "      <td>19.354987</td>\n",
       "      <td>-99.061709</td>\n",
       "      <td>0</td>\n",
       "      <td>0</td>\n",
       "      <td>1</td>\n",
       "      <td>0</td>\n",
       "      <td>0</td>\n",
       "      <td>0</td>\n",
       "      <td>0</td>\n",
       "      <td>0</td>\n",
       "      <td>0</td>\n",
       "      <td>0</td>\n",
       "      <td>0</td>\n",
       "      <td>0</td>\n",
       "      <td>0</td>\n",
       "      <td>0</td>\n",
       "      <td>0</td>\n",
       "    </tr>\n",
       "    <tr>\n",
       "      <th>4</th>\n",
       "      <td>56.0</td>\n",
       "      <td>19.393650</td>\n",
       "      <td>-99.147690</td>\n",
       "      <td>1</td>\n",
       "      <td>0</td>\n",
       "      <td>0</td>\n",
       "      <td>0</td>\n",
       "      <td>0</td>\n",
       "      <td>0</td>\n",
       "      <td>0</td>\n",
       "      <td>0</td>\n",
       "      <td>0</td>\n",
       "      <td>0</td>\n",
       "      <td>0</td>\n",
       "      <td>0</td>\n",
       "      <td>0</td>\n",
       "      <td>0</td>\n",
       "      <td>0</td>\n",
       "    </tr>\n",
       "  </tbody>\n",
       "</table>\n",
       "</div>"
      ],
      "text/plain": [
       "   surface_covered_in_m2        lat        lon  neighborhood_Benito Juárez  \\\n",
       "0                   75.0  19.362690 -99.150565                           1   \n",
       "1                   92.0  19.399120 -99.141464                           1   \n",
       "2                   62.0  19.291345 -99.124312                           0   \n",
       "3                   85.0  19.354987 -99.061709                           0   \n",
       "4                   56.0  19.393650 -99.147690                           1   \n",
       "\n",
       "   neighborhood_Tlalpan  neighborhood_Iztapalapa  \\\n",
       "0                     0                        0   \n",
       "1                     0                        0   \n",
       "2                     1                        0   \n",
       "3                     0                        1   \n",
       "4                     0                        0   \n",
       "\n",
       "   neighborhood_Gustavo A. Madero  neighborhood_Venustiano Carranza  \\\n",
       "0                               0                                 0   \n",
       "1                               0                                 0   \n",
       "2                               0                                 0   \n",
       "3                               0                                 0   \n",
       "4                               0                                 0   \n",
       "\n",
       "   neighborhood_Cuauhtémoc  neighborhood_Álvaro Obregón  \\\n",
       "0                        0                            0   \n",
       "1                        0                            0   \n",
       "2                        0                            0   \n",
       "3                        0                            0   \n",
       "4                        0                            0   \n",
       "\n",
       "   neighborhood_Iztacalco  neighborhood_Coyoacán  neighborhood_Miguel Hidalgo  \\\n",
       "0                       0                      0                            0   \n",
       "1                       0                      0                            0   \n",
       "2                       0                      0                            0   \n",
       "3                       0                      0                            0   \n",
       "4                       0                      0                            0   \n",
       "\n",
       "   neighborhood_Cuajimalpa de Morelos  neighborhood_Azcapotzalco  \\\n",
       "0                                   0                          0   \n",
       "1                                   0                          0   \n",
       "2                                   0                          0   \n",
       "3                                   0                          0   \n",
       "4                                   0                          0   \n",
       "\n",
       "   neighborhood_Tláhuac  neighborhood_La Magdalena Contreras  \\\n",
       "0                     0                                    0   \n",
       "1                     0                                    0   \n",
       "2                     0                                    0   \n",
       "3                     0                                    0   \n",
       "4                     0                                    0   \n",
       "\n",
       "   neighborhood_Xochimilco  \n",
       "0                        0  \n",
       "1                        0  \n",
       "2                        0  \n",
       "3                        0  \n",
       "4                        0  "
      ]
     },
     "execution_count": 10,
     "metadata": {},
     "output_type": "execute_result"
    }
   ],
   "source": [
    "# instantiate\n",
    "ohe = OneHotEncoder(use_cat_names=True)\n",
    "# fit\n",
    "ohe.fit(X_train)\n",
    "# Transform\n",
    "XT_train = ohe.transform(X_train)\n",
    "print(XT_train.shape)\n",
    "XT_train.head()"
   ]
  },
  {
   "cell_type": "code",
   "execution_count": 11,
   "id": "219800f0",
   "metadata": {
    "execution": {
     "iopub.execute_input": "2023-04-24T20:48:20.848057Z",
     "iopub.status.busy": "2023-04-24T20:48:20.847531Z",
     "iopub.status.idle": "2023-04-24T20:48:20.939623Z",
     "shell.execute_reply": "2023-04-24T20:48:20.937663Z"
    },
    "papermill": {
     "duration": 0.105823,
     "end_time": "2023-04-24T20:48:20.944566",
     "exception": false,
     "start_time": "2023-04-24T20:48:20.838743",
     "status": "completed"
    },
    "tags": []
   },
   "outputs": [
    {
     "data": {
      "text/plain": [
       "Pipeline(steps=[('onehotencoder',\n",
       "                 OneHotEncoder(cols=['neighborhood'], use_cat_names=True)),\n",
       "                ('simpleimputer', SimpleImputer()), ('ridge', Ridge())])"
      ]
     },
     "execution_count": 11,
     "metadata": {},
     "output_type": "execute_result"
    }
   ],
   "source": [
    "model = make_pipeline(\n",
    "    OneHotEncoder(use_cat_names=True),\n",
    "    SimpleImputer(),\n",
    "    Ridge()\n",
    ")\n",
    "model.fit(X_train, y_train)"
   ]
  },
  {
   "cell_type": "markdown",
   "id": "6a7d91ce",
   "metadata": {
    "papermill": {
     "duration": 0.016941,
     "end_time": "2023-04-24T20:48:20.979093",
     "exception": false,
     "start_time": "2023-04-24T20:48:20.962152",
     "status": "completed"
    },
    "tags": []
   },
   "source": [
    "## Evaluate"
   ]
  },
  {
   "cell_type": "code",
   "execution_count": 12,
   "id": "ca94122a",
   "metadata": {
    "execution": {
     "iopub.execute_input": "2023-04-24T20:48:21.018999Z",
     "iopub.status.busy": "2023-04-24T20:48:21.017798Z",
     "iopub.status.idle": "2023-04-24T20:48:21.050281Z",
     "shell.execute_reply": "2023-04-24T20:48:21.048493Z"
    },
    "papermill": {
     "duration": 0.058086,
     "end_time": "2023-04-24T20:48:21.055029",
     "exception": false,
     "start_time": "2023-04-24T20:48:20.996943",
     "status": "completed"
    },
    "tags": []
   },
   "outputs": [
    {
     "name": "stdout",
     "output_type": "stream",
     "text": [
      "Training MAE: 65391.617398758026\n"
     ]
    }
   ],
   "source": [
    "# Calculate the training mean absolute error for predictions\n",
    "y_pred_training = model.predict(X_train)\n",
    "print(\"Training MAE:\", mean_absolute_error(y_train, y_pred_training))"
   ]
  },
  {
   "cell_type": "markdown",
   "id": "204bd40d",
   "metadata": {
    "papermill": {
     "duration": 0.017155,
     "end_time": "2023-04-24T20:48:21.090554",
     "exception": false,
     "start_time": "2023-04-24T20:48:21.073399",
     "status": "completed"
    },
    "tags": []
   },
   "source": [
    "## Communicate Results"
   ]
  },
  {
   "cell_type": "code",
   "execution_count": 13,
   "id": "e2bd9792",
   "metadata": {
    "execution": {
     "iopub.execute_input": "2023-04-24T20:48:21.130336Z",
     "iopub.status.busy": "2023-04-24T20:48:21.129536Z",
     "iopub.status.idle": "2023-04-24T20:48:21.142374Z",
     "shell.execute_reply": "2023-04-24T20:48:21.140496Z"
    },
    "papermill": {
     "duration": 0.038073,
     "end_time": "2023-04-24T20:48:21.146909",
     "exception": false,
     "start_time": "2023-04-24T20:48:21.108836",
     "status": "completed"
    },
    "tags": []
   },
   "outputs": [],
   "source": [
    "# Create a function make_prediction\n",
    "def make_prediction(area, lat, lon, neighborhood):\n",
    "    data = {\n",
    "        \"surface_coverd_in_m2\":area,\n",
    "        \"lat\":lat,\n",
    "        \"lon\":lon,\n",
    "        \"neighborhood\":neighborhood\n",
    "    }\n",
    "    df = pd.DataFrame(data, index=[0])\n",
    "    prediction = model.predict(df).round(2)[0]\n",
    "    return f\"Predicted apartment price: ${prediction}\""
   ]
  },
  {
   "cell_type": "code",
   "execution_count": 14,
   "id": "b4bac6d4",
   "metadata": {
    "execution": {
     "iopub.execute_input": "2023-04-24T20:48:21.174219Z",
     "iopub.status.busy": "2023-04-24T20:48:21.173434Z",
     "iopub.status.idle": "2023-04-24T20:48:21.191162Z",
     "shell.execute_reply": "2023-04-24T20:48:21.190118Z"
    },
    "papermill": {
     "duration": 0.028975,
     "end_time": "2023-04-24T20:48:21.193736",
     "exception": false,
     "start_time": "2023-04-24T20:48:21.164761",
     "status": "completed"
    },
    "tags": []
   },
   "outputs": [
    {
     "data": {
      "text/plain": [
       "'Predicted apartment price: $66445.82'"
      ]
     },
     "execution_count": 14,
     "metadata": {},
     "output_type": "execute_result"
    }
   ],
   "source": [
    "# Test a function\n",
    "make_prediction(301, -34.60, -58.46, \"Benito Juárez\")"
   ]
  },
  {
   "cell_type": "code",
   "execution_count": 15,
   "id": "60be4231",
   "metadata": {
    "execution": {
     "iopub.execute_input": "2023-04-24T20:48:21.210725Z",
     "iopub.status.busy": "2023-04-24T20:48:21.210000Z",
     "iopub.status.idle": "2023-04-24T20:48:21.271419Z",
     "shell.execute_reply": "2023-04-24T20:48:21.269835Z"
    },
    "papermill": {
     "duration": 0.073151,
     "end_time": "2023-04-24T20:48:21.274158",
     "exception": false,
     "start_time": "2023-04-24T20:48:21.201007",
     "status": "completed"
    },
    "tags": []
   },
   "outputs": [
    {
     "data": {
      "application/vnd.jupyter.widget-view+json": {
       "model_id": "5973e4db4b4f4439ab5e22197d1fdcc7",
       "version_major": 2,
       "version_minor": 0
      },
      "text/plain": [
       "interactive(children=(IntSlider(value=86, description='area', max=220, min=50), FloatSlider(value=19.494954619…"
      ]
     },
     "metadata": {},
     "output_type": "display_data"
    }
   ],
   "source": [
    "# Creating and interactive dashboard,created one using Jupyter Widgets\n",
    "interact(\n",
    "    make_prediction,\n",
    "    area=IntSlider(\n",
    "        min=X_train[\"surface_covered_in_m2\"].min(),\n",
    "        max=X_train[\"surface_covered_in_m2\"].max(),\n",
    "        value=X_train[\"surface_covered_in_m2\"].mean(),\n",
    "    ),\n",
    "    lat=FloatSlider(\n",
    "        min=X_train[\"lat\"].min(),\n",
    "        max=X_train[\"lat\"].max(),\n",
    "        step=0.01,\n",
    "        value=X_train[\"lat\"].mean(),\n",
    "    ),\n",
    "    lon=FloatSlider(\n",
    "        min=X_train[\"lon\"].min(),\n",
    "        max=X_train[\"lon\"].max(),\n",
    "        step=0.01,\n",
    "        value=X_train[\"lon\"].mean(),\n",
    "    ),\n",
    "    neighborhood=Dropdown(options=sorted(X_train[\"neighborhood\"].unique())),\n",
    ");"
   ]
  }
 ],
 "metadata": {
  "kernelspec": {
   "display_name": "Python 3",
   "language": "python",
   "name": "python3"
  },
  "language_info": {
   "codemirror_mode": {
    "name": "ipython",
    "version": 3
   },
   "file_extension": ".py",
   "mimetype": "text/x-python",
   "name": "python",
   "nbconvert_exporter": "python",
   "pygments_lexer": "ipython3",
   "version": "3.7.12"
  },
  "papermill": {
   "default_parameters": {},
   "duration": 16.136279,
   "end_time": "2023-04-24T20:48:22.106997",
   "environment_variables": {},
   "exception": null,
   "input_path": "__notebook__.ipynb",
   "output_path": "__notebook__.ipynb",
   "parameters": {},
   "start_time": "2023-04-24T20:48:05.970718",
   "version": "2.4.0"
  },
  "widgets": {
   "application/vnd.jupyter.widget-state+json": {
    "state": {
     "033471e41ef342fca7c240c84a4e76e0": {
      "model_module": "@jupyter-widgets/base",
      "model_module_version": "1.2.0",
      "model_name": "LayoutModel",
      "state": {
       "_model_module": "@jupyter-widgets/base",
       "_model_module_version": "1.2.0",
       "_model_name": "LayoutModel",
       "_view_count": null,
       "_view_module": "@jupyter-widgets/base",
       "_view_module_version": "1.2.0",
       "_view_name": "LayoutView",
       "align_content": null,
       "align_items": null,
       "align_self": null,
       "border": null,
       "bottom": null,
       "display": null,
       "flex": null,
       "flex_flow": null,
       "grid_area": null,
       "grid_auto_columns": null,
       "grid_auto_flow": null,
       "grid_auto_rows": null,
       "grid_column": null,
       "grid_gap": null,
       "grid_row": null,
       "grid_template_areas": null,
       "grid_template_columns": null,
       "grid_template_rows": null,
       "height": null,
       "justify_content": null,
       "justify_items": null,
       "left": null,
       "margin": null,
       "max_height": null,
       "max_width": null,
       "min_height": null,
       "min_width": null,
       "object_fit": null,
       "object_position": null,
       "order": null,
       "overflow": null,
       "overflow_x": null,
       "overflow_y": null,
       "padding": null,
       "right": null,
       "top": null,
       "visibility": null,
       "width": null
      }
     },
     "0a7200e2fb534ff6921f866ae47726aa": {
      "model_module": "@jupyter-widgets/base",
      "model_module_version": "1.2.0",
      "model_name": "LayoutModel",
      "state": {
       "_model_module": "@jupyter-widgets/base",
       "_model_module_version": "1.2.0",
       "_model_name": "LayoutModel",
       "_view_count": null,
       "_view_module": "@jupyter-widgets/base",
       "_view_module_version": "1.2.0",
       "_view_name": "LayoutView",
       "align_content": null,
       "align_items": null,
       "align_self": null,
       "border": null,
       "bottom": null,
       "display": null,
       "flex": null,
       "flex_flow": null,
       "grid_area": null,
       "grid_auto_columns": null,
       "grid_auto_flow": null,
       "grid_auto_rows": null,
       "grid_column": null,
       "grid_gap": null,
       "grid_row": null,
       "grid_template_areas": null,
       "grid_template_columns": null,
       "grid_template_rows": null,
       "height": null,
       "justify_content": null,
       "justify_items": null,
       "left": null,
       "margin": null,
       "max_height": null,
       "max_width": null,
       "min_height": null,
       "min_width": null,
       "object_fit": null,
       "object_position": null,
       "order": null,
       "overflow": null,
       "overflow_x": null,
       "overflow_y": null,
       "padding": null,
       "right": null,
       "top": null,
       "visibility": null,
       "width": null
      }
     },
     "2a91edccf34f49bfbb8a3e0a3d4b7b30": {
      "model_module": "@jupyter-widgets/controls",
      "model_module_version": "1.5.0",
      "model_name": "DropdownModel",
      "state": {
       "_dom_classes": [],
       "_model_module": "@jupyter-widgets/controls",
       "_model_module_version": "1.5.0",
       "_model_name": "DropdownModel",
       "_options_labels": [
        "Azcapotzalco",
        "Benito Juárez",
        "Coyoacán",
        "Cuajimalpa de Morelos",
        "Cuauhtémoc",
        "Gustavo A. Madero",
        "Iztacalco",
        "Iztapalapa",
        "La Magdalena Contreras",
        "Miguel Hidalgo",
        "Tlalpan",
        "Tláhuac",
        "Venustiano Carranza",
        "Xochimilco",
        "Álvaro Obregón"
       ],
       "_view_count": null,
       "_view_module": "@jupyter-widgets/controls",
       "_view_module_version": "1.5.0",
       "_view_name": "DropdownView",
       "description": "neighborhood",
       "description_tooltip": null,
       "disabled": false,
       "index": 0,
       "layout": "IPY_MODEL_033471e41ef342fca7c240c84a4e76e0",
       "style": "IPY_MODEL_aaf8a79a2c8541eda7454708b5f6d798"
      }
     },
     "3415f2e4032141d8ba18adb558ae50f1": {
      "model_module": "@jupyter-widgets/controls",
      "model_module_version": "1.5.0",
      "model_name": "SliderStyleModel",
      "state": {
       "_model_module": "@jupyter-widgets/controls",
       "_model_module_version": "1.5.0",
       "_model_name": "SliderStyleModel",
       "_view_count": null,
       "_view_module": "@jupyter-widgets/base",
       "_view_module_version": "1.2.0",
       "_view_name": "StyleView",
       "description_width": "",
       "handle_color": null
      }
     },
     "413d481a50af4550a1086bd66fde6f4a": {
      "model_module": "@jupyter-widgets/controls",
      "model_module_version": "1.5.0",
      "model_name": "SliderStyleModel",
      "state": {
       "_model_module": "@jupyter-widgets/controls",
       "_model_module_version": "1.5.0",
       "_model_name": "SliderStyleModel",
       "_view_count": null,
       "_view_module": "@jupyter-widgets/base",
       "_view_module_version": "1.2.0",
       "_view_name": "StyleView",
       "description_width": "",
       "handle_color": null
      }
     },
     "4ffd996f262743a6a212a0a9419e793a": {
      "model_module": "@jupyter-widgets/controls",
      "model_module_version": "1.5.0",
      "model_name": "IntSliderModel",
      "state": {
       "_dom_classes": [],
       "_model_module": "@jupyter-widgets/controls",
       "_model_module_version": "1.5.0",
       "_model_name": "IntSliderModel",
       "_view_count": null,
       "_view_module": "@jupyter-widgets/controls",
       "_view_module_version": "1.5.0",
       "_view_name": "IntSliderView",
       "continuous_update": true,
       "description": "area",
       "description_tooltip": null,
       "disabled": false,
       "layout": "IPY_MODEL_9aff288b27de46b4b0cfbe132dcc6353",
       "max": 220,
       "min": 50,
       "orientation": "horizontal",
       "readout": true,
       "readout_format": "d",
       "step": 1,
       "style": "IPY_MODEL_8e24235c7f414550a7d168ab24617c2c",
       "value": 86
      }
     },
     "5973e4db4b4f4439ab5e22197d1fdcc7": {
      "model_module": "@jupyter-widgets/controls",
      "model_module_version": "1.5.0",
      "model_name": "VBoxModel",
      "state": {
       "_dom_classes": [
        "widget-interact"
       ],
       "_model_module": "@jupyter-widgets/controls",
       "_model_module_version": "1.5.0",
       "_model_name": "VBoxModel",
       "_view_count": null,
       "_view_module": "@jupyter-widgets/controls",
       "_view_module_version": "1.5.0",
       "_view_name": "VBoxView",
       "box_style": "",
       "children": [
        "IPY_MODEL_4ffd996f262743a6a212a0a9419e793a",
        "IPY_MODEL_6d7e0db1317043efae5a3eee637de238",
        "IPY_MODEL_ef544c388d404458a16da0fc2deacff6",
        "IPY_MODEL_2a91edccf34f49bfbb8a3e0a3d4b7b30",
        "IPY_MODEL_61a3ee0d96d9430a91ee1df90db06cbc"
       ],
       "layout": "IPY_MODEL_0a7200e2fb534ff6921f866ae47726aa"
      }
     },
     "61a3ee0d96d9430a91ee1df90db06cbc": {
      "model_module": "@jupyter-widgets/output",
      "model_module_version": "1.0.0",
      "model_name": "OutputModel",
      "state": {
       "_dom_classes": [],
       "_model_module": "@jupyter-widgets/output",
       "_model_module_version": "1.0.0",
       "_model_name": "OutputModel",
       "_view_count": null,
       "_view_module": "@jupyter-widgets/output",
       "_view_module_version": "1.0.0",
       "_view_name": "OutputView",
       "layout": "IPY_MODEL_f4ffdc5841fd47b3b6608bb733e2fd91",
       "msg_id": "",
       "outputs": [
        {
         "data": {
          "text/plain": "'Predicted apartment price: $111541.97'"
         },
         "metadata": {},
         "output_type": "display_data"
        }
       ]
      }
     },
     "6d7e0db1317043efae5a3eee637de238": {
      "model_module": "@jupyter-widgets/controls",
      "model_module_version": "1.5.0",
      "model_name": "FloatSliderModel",
      "state": {
       "_dom_classes": [],
       "_model_module": "@jupyter-widgets/controls",
       "_model_module_version": "1.5.0",
       "_model_name": "FloatSliderModel",
       "_view_count": null,
       "_view_module": "@jupyter-widgets/controls",
       "_view_module_version": "1.5.0",
       "_view_name": "FloatSliderView",
       "continuous_update": true,
       "description": "lat",
       "description_tooltip": null,
       "disabled": false,
       "layout": "IPY_MODEL_9506a44e4f1e4a3eab7801e7e6258548",
       "max": 23.634501,
       "min": 19.194247,
       "orientation": "horizontal",
       "readout": true,
       "readout_format": ".2f",
       "step": 0.01,
       "style": "IPY_MODEL_3415f2e4032141d8ba18adb558ae50f1",
       "value": 19.494954619043643
      }
     },
     "8e24235c7f414550a7d168ab24617c2c": {
      "model_module": "@jupyter-widgets/controls",
      "model_module_version": "1.5.0",
      "model_name": "SliderStyleModel",
      "state": {
       "_model_module": "@jupyter-widgets/controls",
       "_model_module_version": "1.5.0",
       "_model_name": "SliderStyleModel",
       "_view_count": null,
       "_view_module": "@jupyter-widgets/base",
       "_view_module_version": "1.2.0",
       "_view_name": "StyleView",
       "description_width": "",
       "handle_color": null
      }
     },
     "9506a44e4f1e4a3eab7801e7e6258548": {
      "model_module": "@jupyter-widgets/base",
      "model_module_version": "1.2.0",
      "model_name": "LayoutModel",
      "state": {
       "_model_module": "@jupyter-widgets/base",
       "_model_module_version": "1.2.0",
       "_model_name": "LayoutModel",
       "_view_count": null,
       "_view_module": "@jupyter-widgets/base",
       "_view_module_version": "1.2.0",
       "_view_name": "LayoutView",
       "align_content": null,
       "align_items": null,
       "align_self": null,
       "border": null,
       "bottom": null,
       "display": null,
       "flex": null,
       "flex_flow": null,
       "grid_area": null,
       "grid_auto_columns": null,
       "grid_auto_flow": null,
       "grid_auto_rows": null,
       "grid_column": null,
       "grid_gap": null,
       "grid_row": null,
       "grid_template_areas": null,
       "grid_template_columns": null,
       "grid_template_rows": null,
       "height": null,
       "justify_content": null,
       "justify_items": null,
       "left": null,
       "margin": null,
       "max_height": null,
       "max_width": null,
       "min_height": null,
       "min_width": null,
       "object_fit": null,
       "object_position": null,
       "order": null,
       "overflow": null,
       "overflow_x": null,
       "overflow_y": null,
       "padding": null,
       "right": null,
       "top": null,
       "visibility": null,
       "width": null
      }
     },
     "9aff288b27de46b4b0cfbe132dcc6353": {
      "model_module": "@jupyter-widgets/base",
      "model_module_version": "1.2.0",
      "model_name": "LayoutModel",
      "state": {
       "_model_module": "@jupyter-widgets/base",
       "_model_module_version": "1.2.0",
       "_model_name": "LayoutModel",
       "_view_count": null,
       "_view_module": "@jupyter-widgets/base",
       "_view_module_version": "1.2.0",
       "_view_name": "LayoutView",
       "align_content": null,
       "align_items": null,
       "align_self": null,
       "border": null,
       "bottom": null,
       "display": null,
       "flex": null,
       "flex_flow": null,
       "grid_area": null,
       "grid_auto_columns": null,
       "grid_auto_flow": null,
       "grid_auto_rows": null,
       "grid_column": null,
       "grid_gap": null,
       "grid_row": null,
       "grid_template_areas": null,
       "grid_template_columns": null,
       "grid_template_rows": null,
       "height": null,
       "justify_content": null,
       "justify_items": null,
       "left": null,
       "margin": null,
       "max_height": null,
       "max_width": null,
       "min_height": null,
       "min_width": null,
       "object_fit": null,
       "object_position": null,
       "order": null,
       "overflow": null,
       "overflow_x": null,
       "overflow_y": null,
       "padding": null,
       "right": null,
       "top": null,
       "visibility": null,
       "width": null
      }
     },
     "9f4fbf09ef1c4917a81806436d307a89": {
      "model_module": "@jupyter-widgets/base",
      "model_module_version": "1.2.0",
      "model_name": "LayoutModel",
      "state": {
       "_model_module": "@jupyter-widgets/base",
       "_model_module_version": "1.2.0",
       "_model_name": "LayoutModel",
       "_view_count": null,
       "_view_module": "@jupyter-widgets/base",
       "_view_module_version": "1.2.0",
       "_view_name": "LayoutView",
       "align_content": null,
       "align_items": null,
       "align_self": null,
       "border": null,
       "bottom": null,
       "display": null,
       "flex": null,
       "flex_flow": null,
       "grid_area": null,
       "grid_auto_columns": null,
       "grid_auto_flow": null,
       "grid_auto_rows": null,
       "grid_column": null,
       "grid_gap": null,
       "grid_row": null,
       "grid_template_areas": null,
       "grid_template_columns": null,
       "grid_template_rows": null,
       "height": null,
       "justify_content": null,
       "justify_items": null,
       "left": null,
       "margin": null,
       "max_height": null,
       "max_width": null,
       "min_height": null,
       "min_width": null,
       "object_fit": null,
       "object_position": null,
       "order": null,
       "overflow": null,
       "overflow_x": null,
       "overflow_y": null,
       "padding": null,
       "right": null,
       "top": null,
       "visibility": null,
       "width": null
      }
     },
     "aaf8a79a2c8541eda7454708b5f6d798": {
      "model_module": "@jupyter-widgets/controls",
      "model_module_version": "1.5.0",
      "model_name": "DescriptionStyleModel",
      "state": {
       "_model_module": "@jupyter-widgets/controls",
       "_model_module_version": "1.5.0",
       "_model_name": "DescriptionStyleModel",
       "_view_count": null,
       "_view_module": "@jupyter-widgets/base",
       "_view_module_version": "1.2.0",
       "_view_name": "StyleView",
       "description_width": ""
      }
     },
     "ef544c388d404458a16da0fc2deacff6": {
      "model_module": "@jupyter-widgets/controls",
      "model_module_version": "1.5.0",
      "model_name": "FloatSliderModel",
      "state": {
       "_dom_classes": [],
       "_model_module": "@jupyter-widgets/controls",
       "_model_module_version": "1.5.0",
       "_model_name": "FloatSliderModel",
       "_view_count": null,
       "_view_module": "@jupyter-widgets/controls",
       "_view_module_version": "1.5.0",
       "_view_name": "FloatSliderView",
       "continuous_update": true,
       "description": "lon",
       "description_tooltip": null,
       "disabled": false,
       "layout": "IPY_MODEL_9f4fbf09ef1c4917a81806436d307a89",
       "max": -90.488467,
       "min": -102.552788,
       "orientation": "horizontal",
       "readout": true,
       "readout_format": ".2f",
       "step": 0.01,
       "style": "IPY_MODEL_413d481a50af4550a1086bd66fde6f4a",
       "value": -99.23840076802227
      }
     },
     "f4ffdc5841fd47b3b6608bb733e2fd91": {
      "model_module": "@jupyter-widgets/base",
      "model_module_version": "1.2.0",
      "model_name": "LayoutModel",
      "state": {
       "_model_module": "@jupyter-widgets/base",
       "_model_module_version": "1.2.0",
       "_model_name": "LayoutModel",
       "_view_count": null,
       "_view_module": "@jupyter-widgets/base",
       "_view_module_version": "1.2.0",
       "_view_name": "LayoutView",
       "align_content": null,
       "align_items": null,
       "align_self": null,
       "border": null,
       "bottom": null,
       "display": null,
       "flex": null,
       "flex_flow": null,
       "grid_area": null,
       "grid_auto_columns": null,
       "grid_auto_flow": null,
       "grid_auto_rows": null,
       "grid_column": null,
       "grid_gap": null,
       "grid_row": null,
       "grid_template_areas": null,
       "grid_template_columns": null,
       "grid_template_rows": null,
       "height": null,
       "justify_content": null,
       "justify_items": null,
       "left": null,
       "margin": null,
       "max_height": null,
       "max_width": null,
       "min_height": null,
       "min_width": null,
       "object_fit": null,
       "object_position": null,
       "order": null,
       "overflow": null,
       "overflow_x": null,
       "overflow_y": null,
       "padding": null,
       "right": null,
       "top": null,
       "visibility": null,
       "width": null
      }
     }
    },
    "version_major": 2,
    "version_minor": 0
   }
  }
 },
 "nbformat": 4,
 "nbformat_minor": 5
}

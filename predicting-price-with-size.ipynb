{
 "cells": [
  {
   "cell_type": "code",
   "execution_count": 1,
   "id": "1409d48c",
   "metadata": {
    "_cell_guid": "b1076dfc-b9ad-4769-8c92-a6c4dae69d19",
    "_uuid": "8f2839f25d086af736a60e9eeb907d3b93b6e0e5",
    "execution": {
     "iopub.execute_input": "2023-05-01T08:52:02.701356Z",
     "iopub.status.busy": "2023-05-01T08:52:02.700926Z",
     "iopub.status.idle": "2023-05-01T08:52:02.719076Z",
     "shell.execute_reply": "2023-05-01T08:52:02.717852Z"
    },
    "papermill": {
     "duration": 0.031258,
     "end_time": "2023-05-01T08:52:02.722088",
     "exception": false,
     "start_time": "2023-05-01T08:52:02.690830",
     "status": "completed"
    },
    "tags": []
   },
   "outputs": [
    {
     "name": "stdout",
     "output_type": "stream",
     "text": [
      "/kaggle/input/maxico-housing-price-dataset/mexico-city-real-estate-5.csv\n",
      "/kaggle/input/maxico-housing-price-dataset/mexico-city-real-estate-4.csv\n",
      "/kaggle/input/maxico-housing-price-dataset/mexico-city-real-estate-1.csv\n",
      "/kaggle/input/maxico-housing-price-dataset/mexico-city-real-estate-2.csv\n",
      "/kaggle/input/maxico-housing-price-dataset/mexico-city-real-estate-3.csv\n"
     ]
    }
   ],
   "source": [
    "# This Python 3 environment comes with many helpful analytics libraries installed\n",
    "# It is defined by the kaggle/python Docker image: https://github.com/kaggle/docker-python\n",
    "# For example, here's several helpful packages to load\n",
    "\n",
    "import numpy as np # linear algebra\n",
    "import pandas as pd # data processing, CSV file I/O (e.g. pd.read_csv)\n",
    "\n",
    "# Input data files are available in the read-only \"../input/\" directory\n",
    "# For example, running this (by clicking run or pressing Shift+Enter) will list all files under the input directory\n",
    "\n",
    "import os\n",
    "for dirname, _, filenames in os.walk('/kaggle/input'):\n",
    "    for filename in filenames:\n",
    "        print(os.path.join(dirname, filename))\n",
    "\n",
    "# You can write up to 20GB to the current directory (/kaggle/working/) that gets preserved as output when you create a version using \"Save & Run All\" \n",
    "# You can also write temporary files to /kaggle/temp/, but they won't be saved outside of the current session"
   ]
  },
  {
   "cell_type": "code",
   "execution_count": 2,
   "id": "ca65b06a",
   "metadata": {
    "execution": {
     "iopub.execute_input": "2023-05-01T08:52:02.738880Z",
     "iopub.status.busy": "2023-05-01T08:52:02.738181Z",
     "iopub.status.idle": "2023-05-01T08:52:03.957210Z",
     "shell.execute_reply": "2023-05-01T08:52:03.955920Z"
    },
    "papermill": {
     "duration": 1.230908,
     "end_time": "2023-05-01T08:52:03.960335",
     "exception": false,
     "start_time": "2023-05-01T08:52:02.729427",
     "status": "completed"
    },
    "tags": []
   },
   "outputs": [],
   "source": [
    "import warnings\n",
    "\n",
    "import matplotlib.pyplot as plt\n",
    "import pandas as pd\n",
    "from sklearn.linear_model import LinearRegression\n",
    "from sklearn.metrics import mean_absolute_error\n",
    "from sklearn.utils.validation import check_is_fitted\n",
    "\n",
    "warnings.simplefilter(action=\"ignore\", category=FutureWarning)"
   ]
  },
  {
   "cell_type": "code",
   "execution_count": 3,
   "id": "782c0b52",
   "metadata": {
    "execution": {
     "iopub.execute_input": "2023-05-01T08:52:03.976679Z",
     "iopub.status.busy": "2023-05-01T08:52:03.976284Z",
     "iopub.status.idle": "2023-05-01T08:52:03.981453Z",
     "shell.execute_reply": "2023-05-01T08:52:03.980049Z"
    },
    "papermill": {
     "duration": 0.016284,
     "end_time": "2023-05-01T08:52:03.983875",
     "exception": false,
     "start_time": "2023-05-01T08:52:03.967591",
     "status": "completed"
    },
    "tags": []
   },
   "outputs": [],
   "source": [
    "import csv\n",
    "import os"
   ]
  },
  {
   "cell_type": "markdown",
   "id": "2707c24b",
   "metadata": {
    "papermill": {
     "duration": 0.006651,
     "end_time": "2023-05-01T08:52:03.997662",
     "exception": false,
     "start_time": "2023-05-01T08:52:03.991011",
     "status": "completed"
    },
    "tags": []
   },
   "source": [
    "# Prepare Data"
   ]
  },
  {
   "cell_type": "markdown",
   "id": "1633f361",
   "metadata": {
    "papermill": {
     "duration": 0.00669,
     "end_time": "2023-05-01T08:52:04.011428",
     "exception": false,
     "start_time": "2023-05-01T08:52:04.004738",
     "status": "completed"
    },
    "tags": []
   },
   "source": [
    "## Import"
   ]
  },
  {
   "cell_type": "code",
   "execution_count": 4,
   "id": "e60c1d6a",
   "metadata": {
    "execution": {
     "iopub.execute_input": "2023-05-01T08:52:04.027368Z",
     "iopub.status.busy": "2023-05-01T08:52:04.026908Z",
     "iopub.status.idle": "2023-05-01T08:52:04.035185Z",
     "shell.execute_reply": "2023-05-01T08:52:04.033615Z"
    },
    "papermill": {
     "duration": 0.019677,
     "end_time": "2023-05-01T08:52:04.038088",
     "exception": false,
     "start_time": "2023-05-01T08:52:04.018411",
     "status": "completed"
    },
    "tags": []
   },
   "outputs": [],
   "source": [
    "# Write a wrangle function\n",
    "\n",
    "def wrangle(filepath):\n",
    "    # Read csv files into DataFrame\n",
    "    df=pd.read_csv(filepath)\n",
    "    \n",
    "    # Subset to properties in Distrito Federal\n",
    "    mask_ba=df[\"place_with_parent_names\"].str.contains(\"Distrito Federal\")\n",
    "    \n",
    "    # Subset to apartment\n",
    "    mask_apt=df[\"property_type\"]==\"apartment\"\n",
    "    \n",
    "    # Subset to properties where price usd <4000_000\n",
    "    mask_price=df[\"price_aprox_usd\"] < 4000_000\n",
    "    # Subset\n",
    "    df=df[mask_ba & mask_apt & mask_price]\n",
    "    \n",
    "    # Remove outliers by \"surface_covered_in_m2\"\n",
    "    low, high=df[\"surface_covered_in_m2\"].quantile([0.1, 0.9])\n",
    "    mask_area=df[\"surface_covered_in_m2\"].between(low, high)\n",
    "    df=df[mask_area]\n",
    "    \n",
    "    return df"
   ]
  },
  {
   "cell_type": "code",
   "execution_count": 5,
   "id": "bcc40f38",
   "metadata": {
    "execution": {
     "iopub.execute_input": "2023-05-01T08:52:04.054622Z",
     "iopub.status.busy": "2023-05-01T08:52:04.054051Z",
     "iopub.status.idle": "2023-05-01T08:52:04.174215Z",
     "shell.execute_reply": "2023-05-01T08:52:04.172917Z"
    },
    "papermill": {
     "duration": 0.132515,
     "end_time": "2023-05-01T08:52:04.177725",
     "exception": false,
     "start_time": "2023-05-01T08:52:04.045210",
     "status": "completed"
    },
    "tags": []
   },
   "outputs": [
    {
     "name": "stdout",
     "output_type": "stream",
     "text": [
      "df shape: (2107, 16)\n"
     ]
    },
    {
     "data": {
      "text/html": [
       "<div>\n",
       "<style scoped>\n",
       "    .dataframe tbody tr th:only-of-type {\n",
       "        vertical-align: middle;\n",
       "    }\n",
       "\n",
       "    .dataframe tbody tr th {\n",
       "        vertical-align: top;\n",
       "    }\n",
       "\n",
       "    .dataframe thead th {\n",
       "        text-align: right;\n",
       "    }\n",
       "</style>\n",
       "<table border=\"1\" class=\"dataframe\">\n",
       "  <thead>\n",
       "    <tr style=\"text-align: right;\">\n",
       "      <th></th>\n",
       "      <th>operation</th>\n",
       "      <th>property_type</th>\n",
       "      <th>place_with_parent_names</th>\n",
       "      <th>lat-lon</th>\n",
       "      <th>price</th>\n",
       "      <th>currency</th>\n",
       "      <th>price_aprox_local_currency</th>\n",
       "      <th>price_aprox_usd</th>\n",
       "      <th>surface_total_in_m2</th>\n",
       "      <th>surface_covered_in_m2</th>\n",
       "      <th>price_usd_per_m2</th>\n",
       "      <th>price_per_m2</th>\n",
       "      <th>floor</th>\n",
       "      <th>rooms</th>\n",
       "      <th>expenses</th>\n",
       "      <th>properati_url</th>\n",
       "    </tr>\n",
       "  </thead>\n",
       "  <tbody>\n",
       "    <tr>\n",
       "      <th>2</th>\n",
       "      <td>sell</td>\n",
       "      <td>apartment</td>\n",
       "      <td>|Benito Juárez|Distrito Federal|México|</td>\n",
       "      <td>19.389011,-99.180415</td>\n",
       "      <td>1000000.0</td>\n",
       "      <td>MXN</td>\n",
       "      <td>990953.65</td>\n",
       "      <td>52686.48</td>\n",
       "      <td>NaN</td>\n",
       "      <td>65.0</td>\n",
       "      <td>NaN</td>\n",
       "      <td>15384.615380</td>\n",
       "      <td>NaN</td>\n",
       "      <td>NaN</td>\n",
       "      <td>NaN</td>\n",
       "      <td>http://benito-juarez.properati.com.mx/n36r_ven...</td>\n",
       "    </tr>\n",
       "    <tr>\n",
       "      <th>3</th>\n",
       "      <td>sell</td>\n",
       "      <td>apartment</td>\n",
       "      <td>|Iztacalco|Distrito Federal|México|</td>\n",
       "      <td>23.634501,-102.552788</td>\n",
       "      <td>922096.0</td>\n",
       "      <td>MXN</td>\n",
       "      <td>913754.35</td>\n",
       "      <td>48581.99</td>\n",
       "      <td>NaN</td>\n",
       "      <td>66.0</td>\n",
       "      <td>NaN</td>\n",
       "      <td>13971.151520</td>\n",
       "      <td>NaN</td>\n",
       "      <td>NaN</td>\n",
       "      <td>NaN</td>\n",
       "      <td>http://iztacalco.properati.com.mx/p2qv_venta_d...</td>\n",
       "    </tr>\n",
       "    <tr>\n",
       "      <th>6</th>\n",
       "      <td>sell</td>\n",
       "      <td>apartment</td>\n",
       "      <td>|Gustavo A. Madero|Distrito Federal|México|</td>\n",
       "      <td>19.469681,-99.086136</td>\n",
       "      <td>1150000.0</td>\n",
       "      <td>MXN</td>\n",
       "      <td>1139596.67</td>\n",
       "      <td>60589.45</td>\n",
       "      <td>NaN</td>\n",
       "      <td>52.0</td>\n",
       "      <td>NaN</td>\n",
       "      <td>22115.384620</td>\n",
       "      <td>NaN</td>\n",
       "      <td>NaN</td>\n",
       "      <td>NaN</td>\n",
       "      <td>http://san-juan-de-aragon.properati.com.mx/oi9...</td>\n",
       "    </tr>\n",
       "    <tr>\n",
       "      <th>8</th>\n",
       "      <td>sell</td>\n",
       "      <td>apartment</td>\n",
       "      <td>|Cuauhtémoc|Distrito Federal|México|</td>\n",
       "      <td>19.429437,-99.14346</td>\n",
       "      <td>636418.0</td>\n",
       "      <td>MXN</td>\n",
       "      <td>630660.66</td>\n",
       "      <td>33530.62</td>\n",
       "      <td>NaN</td>\n",
       "      <td>69.0</td>\n",
       "      <td>NaN</td>\n",
       "      <td>9223.449275</td>\n",
       "      <td>NaN</td>\n",
       "      <td>NaN</td>\n",
       "      <td>NaN</td>\n",
       "      <td>http://cuauhtemoc.properati.com.mx/pfui_venta_...</td>\n",
       "    </tr>\n",
       "    <tr>\n",
       "      <th>11</th>\n",
       "      <td>sell</td>\n",
       "      <td>apartment</td>\n",
       "      <td>|Iztacalco|Distrito Federal|México|</td>\n",
       "      <td>19.408007,-99.069186</td>\n",
       "      <td>443290.0</td>\n",
       "      <td>MXN</td>\n",
       "      <td>439279.85</td>\n",
       "      <td>23355.39</td>\n",
       "      <td>NaN</td>\n",
       "      <td>54.0</td>\n",
       "      <td>NaN</td>\n",
       "      <td>8209.074074</td>\n",
       "      <td>NaN</td>\n",
       "      <td>NaN</td>\n",
       "      <td>NaN</td>\n",
       "      <td>http://iztacalco.properati.com.mx/q7n2_venta_d...</td>\n",
       "    </tr>\n",
       "  </tbody>\n",
       "</table>\n",
       "</div>"
      ],
      "text/plain": [
       "   operation property_type                      place_with_parent_names  \\\n",
       "2       sell     apartment      |Benito Juárez|Distrito Federal|México|   \n",
       "3       sell     apartment          |Iztacalco|Distrito Federal|México|   \n",
       "6       sell     apartment  |Gustavo A. Madero|Distrito Federal|México|   \n",
       "8       sell     apartment         |Cuauhtémoc|Distrito Federal|México|   \n",
       "11      sell     apartment          |Iztacalco|Distrito Federal|México|   \n",
       "\n",
       "                  lat-lon      price currency  price_aprox_local_currency  \\\n",
       "2    19.389011,-99.180415  1000000.0      MXN                   990953.65   \n",
       "3   23.634501,-102.552788   922096.0      MXN                   913754.35   \n",
       "6    19.469681,-99.086136  1150000.0      MXN                  1139596.67   \n",
       "8     19.429437,-99.14346   636418.0      MXN                   630660.66   \n",
       "11   19.408007,-99.069186   443290.0      MXN                   439279.85   \n",
       "\n",
       "    price_aprox_usd  surface_total_in_m2  surface_covered_in_m2  \\\n",
       "2          52686.48                  NaN                   65.0   \n",
       "3          48581.99                  NaN                   66.0   \n",
       "6          60589.45                  NaN                   52.0   \n",
       "8          33530.62                  NaN                   69.0   \n",
       "11         23355.39                  NaN                   54.0   \n",
       "\n",
       "    price_usd_per_m2  price_per_m2  floor  rooms  expenses  \\\n",
       "2                NaN  15384.615380    NaN    NaN       NaN   \n",
       "3                NaN  13971.151520    NaN    NaN       NaN   \n",
       "6                NaN  22115.384620    NaN    NaN       NaN   \n",
       "8                NaN   9223.449275    NaN    NaN       NaN   \n",
       "11               NaN   8209.074074    NaN    NaN       NaN   \n",
       "\n",
       "                                        properati_url  \n",
       "2   http://benito-juarez.properati.com.mx/n36r_ven...  \n",
       "3   http://iztacalco.properati.com.mx/p2qv_venta_d...  \n",
       "6   http://san-juan-de-aragon.properati.com.mx/oi9...  \n",
       "8   http://cuauhtemoc.properati.com.mx/pfui_venta_...  \n",
       "11  http://iztacalco.properati.com.mx/q7n2_venta_d...  "
      ]
     },
     "execution_count": 5,
     "metadata": {},
     "output_type": "execute_result"
    }
   ],
   "source": [
    "# Use wrangle function to create a DataFrame from df\n",
    "\n",
    "df = wrangle(\"/kaggle/input/maxico-housing-price-dataset/mexico-city-real-estate-4.csv\")\n",
    "df.drop(columns=[\"Unnamed: 0\"],inplace=True)\n",
    "print(\"df shape:\", df.shape)\n",
    "\n",
    "df.head()"
   ]
  },
  {
   "cell_type": "markdown",
   "id": "f21352b3",
   "metadata": {
    "papermill": {
     "duration": 0.007134,
     "end_time": "2023-05-01T08:52:04.192474",
     "exception": false,
     "start_time": "2023-05-01T08:52:04.185340",
     "status": "completed"
    },
    "tags": []
   },
   "source": [
    "# Explore"
   ]
  },
  {
   "cell_type": "code",
   "execution_count": 6,
   "id": "a70d6e3c",
   "metadata": {
    "execution": {
     "iopub.execute_input": "2023-05-01T08:52:04.209632Z",
     "iopub.status.busy": "2023-05-01T08:52:04.208792Z",
     "iopub.status.idle": "2023-05-01T08:52:04.492111Z",
     "shell.execute_reply": "2023-05-01T08:52:04.490591Z"
    },
    "papermill": {
     "duration": 0.295415,
     "end_time": "2023-05-01T08:52:04.495367",
     "exception": false,
     "start_time": "2023-05-01T08:52:04.199952",
     "status": "completed"
    },
    "tags": []
   },
   "outputs": [
    {
     "data": {
      "image/png": "[encoded data removed]",
      "text/plain": [
       "<Figure size 640x480 with 1 Axes>"
      ]
     },
     "metadata": {},
     "output_type": "display_data"
    }
   ],
   "source": [
    "#Create a histogram of \"surface_covered_in_m2\"\n",
    "\n",
    "plt.hist(df[\"surface_covered_in_m2\"])\n",
    "plt.xlabel(\"Area [sq meters]\")\n",
    "plt.ylabel(\"Distribution of Apartment Sizes\");"
   ]
  },
  {
   "cell_type": "code",
   "execution_count": 7,
   "id": "63338cd4",
   "metadata": {
    "execution": {
     "iopub.execute_input": "2023-05-01T08:52:04.514367Z",
     "iopub.status.busy": "2023-05-01T08:52:04.513899Z",
     "iopub.status.idle": "2023-05-01T08:52:04.526724Z",
     "shell.execute_reply": "2023-05-01T08:52:04.525437Z"
    },
    "papermill": {
     "duration": 0.025586,
     "end_time": "2023-05-01T08:52:04.529268",
     "exception": false,
     "start_time": "2023-05-01T08:52:04.503682",
     "status": "completed"
    },
    "tags": []
   },
   "outputs": [
    {
     "data": {
      "text/plain": [
       "count    2107.000000\n",
       "mean       84.365923\n",
       "std        30.184435\n",
       "min        50.000000\n",
       "25%        63.000000\n",
       "50%        75.000000\n",
       "75%        96.000000\n",
       "max       196.000000\n",
       "Name: surface_covered_in_m2, dtype: float64"
      ]
     },
     "execution_count": 7,
     "metadata": {},
     "output_type": "execute_result"
    }
   ],
   "source": [
    "df[\"surface_covered_in_m2\"].describe()"
   ]
  },
  {
   "cell_type": "code",
   "execution_count": 8,
   "id": "30a0ea8f",
   "metadata": {
    "execution": {
     "iopub.execute_input": "2023-05-01T08:52:04.546966Z",
     "iopub.status.busy": "2023-05-01T08:52:04.546555Z",
     "iopub.status.idle": "2023-05-01T08:52:04.841448Z",
     "shell.execute_reply": "2023-05-01T08:52:04.840269Z"
    },
    "papermill": {
     "duration": 0.306772,
     "end_time": "2023-05-01T08:52:04.844027",
     "exception": false,
     "start_time": "2023-05-01T08:52:04.537255",
     "status": "completed"
    },
    "tags": []
   },
   "outputs": [
    {
     "data": {
      "image/png": "[encoded data removed]",
      "text/plain": [
       "<Figure size 640x480 with 1 Axes>"
      ]
     },
     "metadata": {},
     "output_type": "display_data"
    }
   ],
   "source": [
    "# Create a scatter plot\n",
    "\n",
    "plt.scatter(x=df[\"surface_covered_in_m2\"], y=df[\"price_aprox_usd\"])\n",
    "plt.xlabel(\"Area [sq meters]\")\n",
    "plt.ylabel(\"Price [USD]\")\n",
    "plt.title(\"Mexico: Price vs Area\");"
   ]
  },
  {
   "cell_type": "code",
   "execution_count": 9,
   "id": "d60bd73d",
   "metadata": {
    "execution": {
     "iopub.execute_input": "2023-05-01T08:52:04.864302Z",
     "iopub.status.busy": "2023-05-01T08:52:04.863480Z",
     "iopub.status.idle": "2023-05-01T08:52:04.871628Z",
     "shell.execute_reply": "2023-05-01T08:52:04.870441Z"
    },
    "papermill": {
     "duration": 0.021469,
     "end_time": "2023-05-01T08:52:04.874334",
     "exception": false,
     "start_time": "2023-05-01T08:52:04.852865",
     "status": "completed"
    },
    "tags": []
   },
   "outputs": [
    {
     "data": {
      "text/plain": [
       "(2107, 1)"
      ]
     },
     "execution_count": 9,
     "metadata": {},
     "output_type": "execute_result"
    }
   ],
   "source": [
    "# Create the feature matrix named X_train\n",
    "\n",
    "features = [\"surface_covered_in_m2\"]\n",
    "X_train = df[features]\n",
    "X_train.shape"
   ]
  },
  {
   "cell_type": "code",
   "execution_count": 10,
   "id": "aa0fa139",
   "metadata": {
    "execution": {
     "iopub.execute_input": "2023-05-01T08:52:04.894765Z",
     "iopub.status.busy": "2023-05-01T08:52:04.893950Z",
     "iopub.status.idle": "2023-05-01T08:52:04.902827Z",
     "shell.execute_reply": "2023-05-01T08:52:04.901682Z"
    },
    "papermill": {
     "duration": 0.022278,
     "end_time": "2023-05-01T08:52:04.905420",
     "exception": false,
     "start_time": "2023-05-01T08:52:04.883142",
     "status": "completed"
    },
    "tags": []
   },
   "outputs": [
    {
     "data": {
      "text/plain": [
       "2     52686.48\n",
       "3     48581.99\n",
       "6     60589.45\n",
       "8     33530.62\n",
       "11    23355.39\n",
       "Name: price_aprox_usd, dtype: float64"
      ]
     },
     "execution_count": 10,
     "metadata": {},
     "output_type": "execute_result"
    }
   ],
   "source": [
    "#Create the target vector named y_train\n",
    "\n",
    "target = \"price_aprox_usd\"\n",
    "y_train = df[target]\n",
    "y_train.head()"
   ]
  },
  {
   "cell_type": "markdown",
   "id": "2c5218ed",
   "metadata": {
    "papermill": {
     "duration": 0.008609,
     "end_time": "2023-05-01T08:52:04.923349",
     "exception": false,
     "start_time": "2023-05-01T08:52:04.914740",
     "status": "completed"
    },
    "tags": []
   },
   "source": [
    "# Build Model"
   ]
  },
  {
   "cell_type": "markdown",
   "id": "fa21d649",
   "metadata": {
    "papermill": {
     "duration": 0.008453,
     "end_time": "2023-05-01T08:52:04.940727",
     "exception": false,
     "start_time": "2023-05-01T08:52:04.932274",
     "status": "completed"
    },
    "tags": []
   },
   "source": [
    "## Baseline"
   ]
  },
  {
   "cell_type": "code",
   "execution_count": 11,
   "id": "992ee8d6",
   "metadata": {
    "execution": {
     "iopub.execute_input": "2023-05-01T08:52:04.960497Z",
     "iopub.status.busy": "2023-05-01T08:52:04.960039Z",
     "iopub.status.idle": "2023-05-01T08:52:04.967790Z",
     "shell.execute_reply": "2023-05-01T08:52:04.966495Z"
    },
    "papermill": {
     "duration": 0.02066,
     "end_time": "2023-05-01T08:52:04.970324",
     "exception": false,
     "start_time": "2023-05-01T08:52:04.949664",
     "status": "completed"
    },
    "tags": []
   },
   "outputs": [
    {
     "data": {
      "text/plain": [
       "134165.9443663977"
      ]
     },
     "execution_count": 11,
     "metadata": {},
     "output_type": "execute_result"
    }
   ],
   "source": [
    "# Calculate the mean of your target vector y_train and assign it to the variable y_mean\n",
    "\n",
    "y_mean =y_train.mean()\n",
    "y_mean"
   ]
  },
  {
   "cell_type": "code",
   "execution_count": 12,
   "id": "adba1d61",
   "metadata": {
    "execution": {
     "iopub.execute_input": "2023-05-01T08:52:04.990456Z",
     "iopub.status.busy": "2023-05-01T08:52:04.989957Z",
     "iopub.status.idle": "2023-05-01T08:52:04.998980Z",
     "shell.execute_reply": "2023-05-01T08:52:04.997309Z"
    },
    "papermill": {
     "duration": 0.022485,
     "end_time": "2023-05-01T08:52:05.001886",
     "exception": false,
     "start_time": "2023-05-01T08:52:04.979401",
     "status": "completed"
    },
    "tags": []
   },
   "outputs": [
    {
     "data": {
      "text/plain": [
       "[134165.9443663977,\n",
       " 134165.9443663977,\n",
       " 134165.9443663977,\n",
       " 134165.9443663977,\n",
       " 134165.9443663977]"
      ]
     },
     "execution_count": 12,
     "metadata": {},
     "output_type": "execute_result"
    }
   ],
   "source": [
    "# Create a list named y_pred_baseline that contains the value of y_mean repeated so that it's the same length at y\n",
    "\n",
    "y_pred_baseline = [y_mean]*len(y_train)\n",
    "y_pred_baseline[:5]"
   ]
  },
  {
   "cell_type": "code",
   "execution_count": 13,
   "id": "6dc0dc84",
   "metadata": {
    "execution": {
     "iopub.execute_input": "2023-05-01T08:52:05.022560Z",
     "iopub.status.busy": "2023-05-01T08:52:05.022119Z",
     "iopub.status.idle": "2023-05-01T08:52:05.347167Z",
     "shell.execute_reply": "2023-05-01T08:52:05.345791Z"
    },
    "papermill": {
     "duration": 0.338534,
     "end_time": "2023-05-01T08:52:05.349976",
     "exception": false,
     "start_time": "2023-05-01T08:52:05.011442",
     "status": "completed"
    },
    "tags": []
   },
   "outputs": [
    {
     "data": {
      "image/png": "[encoded data removed]",
      "text/plain": [
       "<Figure size 640x480 with 1 Axes>"
      ]
     },
     "metadata": {},
     "output_type": "display_data"
    }
   ],
   "source": [
    "# Add a line to the plot that shows the relationship between the observations X_train and our dumb model's predictions y_pred_baseline.\n",
    "\n",
    "plt.plot(X_train.values, y_pred_baseline, color=\"orange\", label=\"Baseline Model\")\n",
    "plt.scatter(X_train, y_train)\n",
    "plt.xlabel(\"Area [sq meters]\")\n",
    "plt.ylabel(\"Price [USD]\")\n",
    "plt.title(\"Mexico: Price vs. Area\")\n",
    "plt.legend();"
   ]
  },
  {
   "cell_type": "markdown",
   "id": "faa0fae5",
   "metadata": {
    "papermill": {
     "duration": 0.009422,
     "end_time": "2023-05-01T08:52:05.369326",
     "exception": false,
     "start_time": "2023-05-01T08:52:05.359904",
     "status": "completed"
    },
    "tags": []
   },
   "source": [
    "Looking at this visualization, it seems like the baseline module does not really follow the trend"
   ]
  },
  {
   "cell_type": "code",
   "execution_count": 14,
   "id": "879a6439",
   "metadata": {
    "execution": {
     "iopub.execute_input": "2023-05-01T08:52:05.391043Z",
     "iopub.status.busy": "2023-05-01T08:52:05.390633Z",
     "iopub.status.idle": "2023-05-01T08:52:05.397899Z",
     "shell.execute_reply": "2023-05-01T08:52:05.396666Z"
    },
    "papermill": {
     "duration": 0.022559,
     "end_time": "2023-05-01T08:52:05.401596",
     "exception": false,
     "start_time": "2023-05-01T08:52:05.379037",
     "status": "completed"
    },
    "tags": []
   },
   "outputs": [
    {
     "name": "stdout",
     "output_type": "stream",
     "text": [
      "Mean apt price 134165.94\n",
      "Baseline MAE: 92322.19\n"
     ]
    }
   ],
   "source": [
    "# Calculate the baseline mean absolute error for your predictions in y_pred_baseline as compared to the true targets in y\n",
    "\n",
    "mae_baseline = mean_absolute_error(y_train, y_pred_baseline)\n",
    "ascii\n",
    "print(\"Mean apt price\", round(y_mean, 2))\n",
    "print(\"Baseline MAE:\", round(mae_baseline, 2))\n",
    "\n",
    "# If we always predicted that an apartment price is $134,165.94, our predictions would be off by an average of $41 843,75. \n",
    "# It also tells us that our model needs to have mean absolute error below $44,220.96 in order to be useful."
   ]
  },
  {
   "cell_type": "code",
   "execution_count": 15,
   "id": "5f4bf881",
   "metadata": {
    "execution": {
     "iopub.execute_input": "2023-05-01T08:52:05.423296Z",
     "iopub.status.busy": "2023-05-01T08:52:05.422875Z",
     "iopub.status.idle": "2023-05-01T08:52:05.427261Z",
     "shell.execute_reply": "2023-05-01T08:52:05.426335Z"
    },
    "papermill": {
     "duration": 0.017971,
     "end_time": "2023-05-01T08:52:05.429375",
     "exception": false,
     "start_time": "2023-05-01T08:52:05.411404",
     "status": "completed"
    },
    "tags": []
   },
   "outputs": [],
   "source": [
    "# Instantiate a LinearRegression model named model.\n",
    "model = LinearRegression()"
   ]
  },
  {
   "cell_type": "code",
   "execution_count": 16,
   "id": "f29b5c17",
   "metadata": {
    "execution": {
     "iopub.execute_input": "2023-05-01T08:52:05.452353Z",
     "iopub.status.busy": "2023-05-01T08:52:05.450978Z",
     "iopub.status.idle": "2023-05-01T08:52:05.470590Z",
     "shell.execute_reply": "2023-05-01T08:52:05.469179Z"
    },
    "papermill": {
     "duration": 0.033833,
     "end_time": "2023-05-01T08:52:05.473080",
     "exception": false,
     "start_time": "2023-05-01T08:52:05.439247",
     "status": "completed"
    },
    "tags": []
   },
   "outputs": [
    {
     "data": {
      "text/plain": [
       "LinearRegression()"
      ]
     },
     "execution_count": 16,
     "metadata": {},
     "output_type": "execute_result"
    }
   ],
   "source": [
    "# Fit your model to the data, X_train and y_train.\n",
    "\n",
    "model.fit(X_train, y_train)"
   ]
  },
  {
   "cell_type": "markdown",
   "id": "f7e92bb7",
   "metadata": {
    "papermill": {
     "duration": 0.010028,
     "end_time": "2023-05-01T08:52:05.493061",
     "exception": false,
     "start_time": "2023-05-01T08:52:05.483033",
     "status": "completed"
    },
    "tags": []
   },
   "source": [
    "## Evaluate"
   ]
  },
  {
   "cell_type": "code",
   "execution_count": 17,
   "id": "cd464edd",
   "metadata": {
    "execution": {
     "iopub.execute_input": "2023-05-01T08:52:05.515104Z",
     "iopub.status.busy": "2023-05-01T08:52:05.514633Z",
     "iopub.status.idle": "2023-05-01T08:52:05.525218Z",
     "shell.execute_reply": "2023-05-01T08:52:05.523939Z"
    },
    "papermill": {
     "duration": 0.024633,
     "end_time": "2023-05-01T08:52:05.527839",
     "exception": false,
     "start_time": "2023-05-01T08:52:05.503206",
     "status": "completed"
    },
    "tags": []
   },
   "outputs": [
    {
     "data": {
      "text/plain": [
       "array([68028.09734882, 71443.26359885, 23630.93609849, 81688.76234892,\n",
       "       30461.26859854])"
      ]
     },
     "execution_count": 17,
     "metadata": {},
     "output_type": "execute_result"
    }
   ],
   "source": [
    "#Create a list of predictions for the observations in your feature matrix X_train. Name this array y_pred_training.\n",
    "\n",
    "y_pred_training = model.predict(X_train)\n",
    "y_pred_training[:5]"
   ]
  },
  {
   "cell_type": "code",
   "execution_count": 18,
   "id": "40da99a3",
   "metadata": {
    "execution": {
     "iopub.execute_input": "2023-05-01T08:52:05.550343Z",
     "iopub.status.busy": "2023-05-01T08:52:05.549905Z",
     "iopub.status.idle": "2023-05-01T08:52:05.556713Z",
     "shell.execute_reply": "2023-05-01T08:52:05.555427Z"
    },
    "papermill": {
     "duration": 0.021079,
     "end_time": "2023-05-01T08:52:05.559172",
     "exception": false,
     "start_time": "2023-05-01T08:52:05.538093",
     "status": "completed"
    },
    "tags": []
   },
   "outputs": [
    {
     "name": "stdout",
     "output_type": "stream",
     "text": [
      "Training MAE: 65222.67\n"
     ]
    }
   ],
   "source": [
    "# Calculate your training mean absolute error for your predictions in y_pred_training as compared to the true targets in y_train\n",
    "\n",
    "mae_training = mean_absolute_error(y_train, y_pred_training)\n",
    "print(\"Training MAE:\", round(mae_training, 2))"
   ]
  },
  {
   "cell_type": "code",
   "execution_count": 19,
   "id": "a750fe2d",
   "metadata": {
    "execution": {
     "iopub.execute_input": "2023-05-01T08:52:05.581837Z",
     "iopub.status.busy": "2023-05-01T08:52:05.581087Z",
     "iopub.status.idle": "2023-05-01T08:52:05.588312Z",
     "shell.execute_reply": "2023-05-01T08:52:05.586960Z"
    },
    "papermill": {
     "duration": 0.021888,
     "end_time": "2023-05-01T08:52:05.591197",
     "exception": false,
     "start_time": "2023-05-01T08:52:05.569309",
     "status": "completed"
    },
    "tags": []
   },
   "outputs": [
    {
     "name": "stdout",
     "output_type": "stream",
     "text": [
      "Model Intercept: -153957.71\n"
     ]
    }
   ],
   "source": [
    "# Extract the intercept from the model\n",
    "\n",
    "intercept = round(model.intercept_,2)\n",
    "print(\"Model Intercept:\", intercept)\n",
    "assert any([isinstance(intercept, int), isinstance(intercept, float)])"
   ]
  },
  {
   "cell_type": "code",
   "execution_count": 20,
   "id": "a1515a81",
   "metadata": {
    "execution": {
     "iopub.execute_input": "2023-05-01T08:52:05.613692Z",
     "iopub.status.busy": "2023-05-01T08:52:05.613278Z",
     "iopub.status.idle": "2023-05-01T08:52:05.619603Z",
     "shell.execute_reply": "2023-05-01T08:52:05.618620Z"
    },
    "papermill": {
     "duration": 0.020984,
     "end_time": "2023-05-01T08:52:05.622576",
     "exception": false,
     "start_time": "2023-05-01T08:52:05.601592",
     "status": "completed"
    },
    "tags": []
   },
   "outputs": [
    {
     "name": "stdout",
     "output_type": "stream",
     "text": [
      "Model coefficient for \"surface_covered_in_m2\": 3415.17\n"
     ]
    }
   ],
   "source": [
    "# Extract the coefficient associated \"surface_covered_in_m2\"\n",
    "\n",
    "coefficient = round(model.coef_[0], 2)\n",
    "print('Model coefficient for \"surface_covered_in_m2\":', coefficient)\n",
    "assert any([isinstance(coefficient, int), isinstance(coefficient, float)])"
   ]
  },
  {
   "cell_type": "code",
   "execution_count": 21,
   "id": "597ef8f8",
   "metadata": {
    "execution": {
     "iopub.execute_input": "2023-05-01T08:52:05.646884Z",
     "iopub.status.busy": "2023-05-01T08:52:05.645863Z",
     "iopub.status.idle": "2023-05-01T08:52:05.652440Z",
     "shell.execute_reply": "2023-05-01T08:52:05.651057Z"
    },
    "papermill": {
     "duration": 0.021781,
     "end_time": "2023-05-01T08:52:05.655201",
     "exception": false,
     "start_time": "2023-05-01T08:52:05.633420",
     "status": "completed"
    },
    "tags": []
   },
   "outputs": [
    {
     "name": "stdout",
     "output_type": "stream",
     "text": [
      "apt_price = -153957.71 + 3415.17 * surface_covered\n"
     ]
    }
   ],
   "source": [
    "# Print the equation that the model has determined for predicting apartment price based on size\n",
    "\n",
    "print(f\"apt_price = {intercept} + {coefficient} * surface_covered\")"
   ]
  },
  {
   "cell_type": "code",
   "execution_count": 22,
   "id": "2178cc18",
   "metadata": {
    "execution": {
     "iopub.execute_input": "2023-05-01T08:52:05.678560Z",
     "iopub.status.busy": "2023-05-01T08:52:05.677865Z",
     "iopub.status.idle": "2023-05-01T08:52:06.006805Z",
     "shell.execute_reply": "2023-05-01T08:52:06.005375Z"
    },
    "papermill": {
     "duration": 0.343793,
     "end_time": "2023-05-01T08:52:06.009868",
     "exception": false,
     "start_time": "2023-05-01T08:52:05.666075",
     "status": "completed"
    },
    "tags": []
   },
   "outputs": [
    {
     "data": {
      "image/png": "[encoded data removed]",
      "text/plain": [
       "<Figure size 640x480 with 1 Axes>"
      ]
     },
     "metadata": {},
     "output_type": "display_data"
    }
   ],
   "source": [
    "# Add a line to the plot that shows the relationship between the observations in X_train and your model's predictions y_pred_training\n",
    "\n",
    "plt.plot(X_train, model.predict(X_train), color=\"r\", label=\"Linear Model\")\n",
    "plt.scatter(X_train, y_train)\n",
    "plt.xlabel(\"surface covered [sq meters]\")\n",
    "plt.ylabel(\"price [usd]\")\n",
    "plt.legend();"
   ]
  }
 ],
 "metadata": {
  "kernelspec": {
   "display_name": "Python 3",
   "language": "python",
   "name": "python3"
  },
  "language_info": {
   "codemirror_mode": {
    "name": "ipython",
    "version": 3
   },
   "file_extension": ".py",
   "mimetype": "text/x-python",
   "name": "python",
   "nbconvert_exporter": "python",
   "pygments_lexer": "ipython3",
   "version": "3.7.12"
  },
  "papermill": {
   "default_parameters": {},
   "duration": 14.956693,
   "end_time": "2023-05-01T08:52:06.846541",
   "environment_variables": {},
   "exception": null,
   "input_path": "__notebook__.ipynb",
   "output_path": "__notebook__.ipynb",
   "parameters": {},
   "start_time": "2023-05-01T08:51:51.889848",
   "version": "2.4.0"
  }
 },
 "nbformat": 4,
 "nbformat_minor": 5
}
